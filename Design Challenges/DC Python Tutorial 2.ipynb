{
 "cells": [
  {
   "cell_type": "markdown",
   "metadata": {},
   "source": [
    "# DC Python Tutorial 2: 10-19\n",
    " \n",
    "Hint: If you are typing a function name and want to know what the options are for completing what you are typing, just hit the tab key for a menu of options.\n",
    "\n",
    "Hint: If you want to see the source code associated with a function, you can do the following\n",
    "import inspect\n",
    "inspect.getsource(foo) \n",
    "\n",
    "Where \"foo\" is the function that you'd like to learn about. \n",
    "\n",
    "Each cell in Jupyter is either code or markdown (select in the drop down menu above). You can learn about markdown language from the help menu. Markdown allows you to create very nicely formatted text including Latex equations.\n",
    "$$c = \\sqrt{a^2 + b^2}$$\n",
    "\n",
    "Each cell is either in edit mode (select this cell and press the enter key) or in display mode (press shift enter). Shift Enter also executes the code in the cell.\n",
    "\n",
    "When you open a Jupyter notebook it is convenient to go to the cell menu and select Run All so that all results are calculated and displayed.\n",
    "\n",
    "The Python Kernel remembers all definitions (functions and variables) as they are defined based on execution of the cells in the Jupyter notebook. Thus if you fail to execute a cell, the parameters defined in that cell won't be available. Similarly, if you define a parameter and then delete that line of code, that parameter remains defined until you go to the Kernel menu and select restart. It is good practice to select Restart & Run All from the Kernel menu after completing an assignment to make sure that everything in your notebook works correctly and that you haven't deleted an essential line of code!"
   ]
  },
  {
   "cell_type": "code",
   "execution_count": 1,
   "metadata": {
    "collapsed": true,
    "scrolled": true
   },
   "outputs": [],
   "source": [
    "#Here we import packages that we will need for this notebook. You can find out about these packages in the Help menu.\n",
    "\n",
    "\n",
    "# although math is \"built in\" it needs to be imported so it's functions can be used.\n",
    "import math\n",
    "\n",
    "from scipy import constants, interpolate\n",
    "\n",
    "#see numpy cheat sheet https://www.dataquest.io/blog/images/cheat-sheets/numpy-cheat-sheet.pdf\n",
    "#The numpy import is needed because it is renamed here as np.\n",
    "import numpy as np\n",
    "\n",
    "#Pandas is used to import data from spreadsheets\n",
    "import pandas as pd\n",
    " \n",
    "import matplotlib.pyplot as plt\n",
    "\n",
    "# sys and os give us access to operating system directory paths and to sys paths.\n",
    "import sys, os\n",
    "\n",
    "# If you place your GitHub directory in your documents folder and \n",
    "# clone both the design challenge notebook and the AguaClara_design repo, then this code should all work.\n",
    "# If you have your GitHub directory at a different location on your computer, \n",
    "# then you will need to adjust the directory path below.\n",
    "# add the path to your GitHub directory so that python can find files in other contained folders.\n",
    "path1 = '~'\n",
    "path2 = 'Documents'\n",
    "path3 = 'GitHub'\n",
    "path4 = os.path.join(path1, path2, path3)\n",
    "myGitHubdir = os.path.expanduser(path4)\n",
    "if myGitHubdir not in sys.path:\n",
    "    sys.path.append(myGitHubdir)\n",
    "\n",
    "# add imports for AguaClara code that will be needed\n",
    "# physchem has functions related to hydraulics, fractal flocs, flocculation, sedimentation, etc.\n",
    "from aide_design import physchem as pc\n",
    "\n",
    "# pipedatabase has functions related to pipe diameters\n",
    "from aide_design import pipedatabase as pipe\n",
    "\n",
    "# units allows us to include units in all of our calculations\n",
    "from aide_design.units import unit_registry as u\n",
    "\n",
    "from aide_design import utility as ut\n"
   ]
  },
  {
   "cell_type": "markdown",
   "metadata": {},
   "source": [
    "---\n",
    "\n",
    "## Resources in getting started with Python \n",
    "Here are some basic [Python functions](http://docs.python.org/3/library/functions.html) that might be helpful to look through. "
   ]
  },
  {
   "cell_type": "markdown",
   "metadata": {},
   "source": [
    "## Transitioning From Matlab To Python\n",
    "\n",
    "**Indentation** - When writing functions or using statements, Python recognizes code blocks from the way they are indented.  A code block is a group of statements that, together, perform a task. A block begins with a header that is followed by one or more statements that are indented with respect to the header. The indentation indicates to the Python interpreter, and to programmers that are reading the code, that the indented statements and the preceding header form a code block.\n",
    "\n",
    "**Suppressing Statements** - Unlike Matlab, you do not need a semi-colon to suppress a statement in Python;\n",
    "\n",
    "**Indexing** - Matlab starts at index 1 whereas Python starts at index 0. \n",
    "\n",
    "**Functions** - In Matlab, functions are written by invoking the keyword \"function\", the return parameter(s), the equal to sign, the function name and the input parameters. A function is terminated with \"end\". \n",
    "\n",
    "`function y = average(x)\n",
    "if ~isvector(x)\n",
    "    error('Input must be a vector')\n",
    "end\n",
    "y = sum(x)/length(x); \n",
    "end`\n",
    "\n",
    "In Python, functions can be written by using the keyword \"def\", followed by the function name and then the input parameters in paranthesis followed by a colon. A function is terminated with \"return\". \n",
    "\n",
    "`def average(x):\n",
    "   if ~isvector(x)\n",
    "       raise VocationError(\"Input must be a vector\")\n",
    "   return sum(x)/length(x); `\n",
    "  \n",
    "**Statements** - for loops and if statements do not require the keyword \"end\" in Python. The loop header in Matlab varies from that of Python. Check examples below:\n",
    "\n",
    "Matlab code\n",
    "\n",
    "`s = 10;                                               \n",
    "H = zeros(s);                                                                  \n",
    "for c = 1:s                                          \n",
    "    for r = 1:s                                         \n",
    "        H(r,c) = 1/(r+c-1);                                                  \n",
    "    end\n",
    "end`\n",
    "\n",
    "Python code\n",
    "\n",
    "`s = 10 \n",
    "H = []\n",
    "for (r in range(s)):\n",
    "    for (c in range(s)):\n",
    "        H[r][c].append(1/(r+c-1)`\n",
    "   \n",
    "   \n",
    "**Printing** - Use \"print()\" in Python instead of \"disp\" in Matlab.\n",
    "\n",
    "**Helpful Documents**\n",
    "\n",
    "[Numpy for Matlab Users](https://docs.scipy.org/doc/numpy-dev/user/numpy-for-matlab-users.html)\n",
    "\n",
    "[Stepping from Matlab to Python](http://stsievert.com/blog/2015/09/01/matlab-to-python/)\n",
    "\n",
    "[Python for Matlab Users, UC Boulder](http://researchcomputing.github.io/meetup_fall_2014/pdfs/fall2014_meetup13_python_matlab.pdf)"
   ]
  },
  {
   "cell_type": "markdown",
   "metadata": {
    "collapsed": true
   },
   "source": [
    "---\n",
    "\n",
    "## Arrays and Lists\n",
    "\n",
    "Python has no native array type. Instead, it has lists, which are defined using [ ]:"
   ]
  },
  {
   "cell_type": "code",
   "execution_count": 2,
   "metadata": {
    "collapsed": true
   },
   "outputs": [],
   "source": [
    "a = [0,1,2,3]"
   ]
  },
  {
   "cell_type": "markdown",
   "metadata": {},
   "source": [
    "Python has a number of helpful commands to modify lists, and you can read more about them [here](https://docs.python.org/2/tutorial/datastructures.html)."
   ]
  },
  {
   "cell_type": "markdown",
   "metadata": {},
   "source": [
    "In order to use lists as arrays, numpy (numpy provides tools for working with **num**bers in **py**thon) provides an array data type that is defined using ( ). "
   ]
  },
  {
   "cell_type": "code",
   "execution_count": 3,
   "metadata": {
    "collapsed": true
   },
   "outputs": [],
   "source": [
    "a_array = np.array(a)"
   ]
  },
  {
   "cell_type": "code",
   "execution_count": 4,
   "metadata": {},
   "outputs": [
    {
     "data": {
      "text/plain": [
       "array([0, 1, 2, 3])"
      ]
     },
     "execution_count": 4,
     "metadata": {},
     "output_type": "execute_result"
    }
   ],
   "source": [
    "a_array"
   ]
  },
  {
   "cell_type": "markdown",
   "metadata": {},
   "source": [
    "Pint, which adds unit capabilities to Python, (see section on units below) is compatible with NumPy, so it is possible to add units to arrays and perform certain calculations with these arrays. We recommend using NumPy arrays rather than lists because NumPy arrays can handle units. Additionally, use functions from NumPy if possible instead of function from the math package when possible because the math package does not yet handle units. Units are added by multiplying the number by the unit raised to the appropriate power. The pint unit registry was imported above as \"u\" and thus the units for milliliters are defined as u.mL."
   ]
  },
  {
   "cell_type": "code",
   "execution_count": 5,
   "metadata": {
    "collapsed": true
   },
   "outputs": [],
   "source": [
    "a_array_units = a_array * u.m"
   ]
  },
  {
   "cell_type": "code",
   "execution_count": 6,
   "metadata": {},
   "outputs": [
    {
     "data": {
      "text/html": [
       "\\[\\begin{pmatrix}0 & 1 & 2 & 3\\end{pmatrix} meter\\]"
      ],
      "text/latex": [
       "$\\begin{pmatrix}0 & 1 & 2 & 3\\end{pmatrix}\\ \\mathrm{meter}$"
      ],
      "text/plain": [
       "<Quantity([0 1 2 3], 'meter')>"
      ]
     },
     "execution_count": 6,
     "metadata": {},
     "output_type": "execute_result"
    }
   ],
   "source": [
    "a_array_units"
   ]
  },
  {
   "cell_type": "markdown",
   "metadata": {},
   "source": [
    "In order to make a 2D array, you can use the same [NumPy array command](https://docs.scipy.org/doc/numpy/reference/generated/numpy.array.html)."
   ]
  },
  {
   "cell_type": "code",
   "execution_count": 7,
   "metadata": {},
   "outputs": [
    {
     "data": {
      "text/html": [
       "\\[\\begin{pmatrix}0 & 1 & 2\\\\ \n",
       "3 & 4 & 5\\\\ \n",
       "6 & 7 & 8\\end{pmatrix} milliliter\\]"
      ],
      "text/latex": [
       "$\\begin{pmatrix}0 & 1 & 2\\\\ \n",
       "3 & 4 & 5\\\\ \n",
       "6 & 7 & 8\\end{pmatrix}\\ \\mathrm{milliliter}$"
      ],
      "text/plain": [
       "<Quantity([[0 1 2]\n",
       " [3 4 5]\n",
       " [6 7 8]], 'milliliter')>"
      ]
     },
     "execution_count": 7,
     "metadata": {},
     "output_type": "execute_result"
    }
   ],
   "source": [
    "b = np.array([[0,1,2],[3,4,5],[6,7,8]])*u.mL\n",
    "b"
   ]
  },
  {
   "cell_type": "markdown",
   "metadata": {},
   "source": [
    "Indexing is done by row and then by column. To call all of the elements in a row or column, use a colon. As you can see in the following example, indexing in python begins at zero. So `b[:,1]` is calling all rows in the second column"
   ]
  },
  {
   "cell_type": "code",
   "execution_count": 8,
   "metadata": {},
   "outputs": [
    {
     "data": {
      "text/html": [
       "\\[\\begin{pmatrix}1 & 4 & 7\\end{pmatrix} milliliter\\]"
      ],
      "text/latex": [
       "$\\begin{pmatrix}1 & 4 & 7\\end{pmatrix}\\ \\mathrm{milliliter}$"
      ],
      "text/plain": [
       "<Quantity([1 4 7], 'milliliter')>"
      ]
     },
     "execution_count": 8,
     "metadata": {},
     "output_type": "execute_result"
    }
   ],
   "source": [
    "b[:,1]"
   ]
  },
  {
   "cell_type": "markdown",
   "metadata": {},
   "source": [
    "If you want a specific range of values in an array, you can also use a colon to slice the array, with the number before the colon being the index of the first element, and the number after the colon being **one greater** than the index of the last element."
   ]
  },
  {
   "cell_type": "code",
   "execution_count": 9,
   "metadata": {},
   "outputs": [
    {
     "data": {
      "text/html": [
       "\\[\\begin{pmatrix}3 & 6\\end{pmatrix} milliliter\\]"
      ],
      "text/latex": [
       "$\\begin{pmatrix}3 & 6\\end{pmatrix}\\ \\mathrm{milliliter}$"
      ],
      "text/plain": [
       "<Quantity([3 6], 'milliliter')>"
      ]
     },
     "execution_count": 9,
     "metadata": {},
     "output_type": "execute_result"
    }
   ],
   "source": [
    "b[1:3,0]"
   ]
  },
  {
   "cell_type": "markdown",
   "metadata": {},
   "source": [
    "For lists and 1D arrays, the `len()` command can be used to determine the length. Note that the length is NOT equal to the index of the last element because the indexes are zero based. The len function can be used with lists and arrays. For multiple dimension arrays the `len()` command returns the length of the first dimension."
   ]
  },
  {
   "cell_type": "code",
   "execution_count": 10,
   "metadata": {},
   "outputs": [
    {
     "data": {
      "text/plain": [
       "4"
      ]
     },
     "execution_count": 10,
     "metadata": {},
     "output_type": "execute_result"
    }
   ],
   "source": [
    "len(a)"
   ]
  },
  {
   "cell_type": "code",
   "execution_count": 11,
   "metadata": {},
   "outputs": [
    {
     "data": {
      "text/plain": [
       "3"
      ]
     },
     "execution_count": 11,
     "metadata": {},
     "output_type": "execute_result"
    }
   ],
   "source": [
    "len(b)"
   ]
  },
  {
   "cell_type": "markdown",
   "metadata": {},
   "source": [
    "For any higher dimension of array, `numpy.size()` can be used to find the total number of elements and `numpy.shape()` can be used to learn the dimensions of the array."
   ]
  },
  {
   "cell_type": "code",
   "execution_count": 12,
   "metadata": {},
   "outputs": [
    {
     "data": {
      "text/plain": [
       "9"
      ]
     },
     "execution_count": 12,
     "metadata": {},
     "output_type": "execute_result"
    }
   ],
   "source": [
    "np.size(b)"
   ]
  },
  {
   "cell_type": "code",
   "execution_count": 13,
   "metadata": {},
   "outputs": [
    {
     "data": {
      "text/plain": [
       "(3, 3)"
      ]
     },
     "execution_count": 13,
     "metadata": {},
     "output_type": "execute_result"
    }
   ],
   "source": [
    "np.shape(b)"
   ]
  },
  {
   "cell_type": "markdown",
   "metadata": {},
   "source": [
    "For a listing of the commands you can use to manipulate numpy arrays, refer to the [scipy documentation](https://docs.scipy.org/doc/numpy/reference/routines.array-manipulation.html)."
   ]
  },
  {
   "cell_type": "markdown",
   "metadata": {},
   "source": [
    "Sometimes, it is helpful to have an array of elements that range from zero to a specified number. This can be useful, for example, in creating a graph. To create an array of this type, use [numpy.arange](https://docs.scipy.org/doc/numpy/reference/generated/numpy.arange.html)."
   ]
  },
  {
   "cell_type": "code",
   "execution_count": 14,
   "metadata": {
    "collapsed": true
   },
   "outputs": [],
   "source": [
    "crange = np.arange(10)"
   ]
  },
  {
   "cell_type": "code",
   "execution_count": 15,
   "metadata": {},
   "outputs": [
    {
     "data": {
      "text/plain": [
       "array([0, 1, 2, 3, 4, 5, 6, 7, 8, 9])"
      ]
     },
     "execution_count": 15,
     "metadata": {},
     "output_type": "execute_result"
    }
   ],
   "source": [
    "crange"
   ]
  },
  {
   "cell_type": "code",
   "execution_count": 16,
   "metadata": {
    "collapsed": true
   },
   "outputs": [],
   "source": [
    "cdetailedrange = np.arange(5,10,0.1)"
   ]
  },
  {
   "cell_type": "code",
   "execution_count": 17,
   "metadata": {},
   "outputs": [
    {
     "data": {
      "text/plain": [
       "array([ 5. ,  5.1,  5.2,  5.3,  5.4,  5.5,  5.6,  5.7,  5.8,  5.9,  6. ,\n",
       "        6.1,  6.2,  6.3,  6.4,  6.5,  6.6,  6.7,  6.8,  6.9,  7. ,  7.1,\n",
       "        7.2,  7.3,  7.4,  7.5,  7.6,  7.7,  7.8,  7.9,  8. ,  8.1,  8.2,\n",
       "        8.3,  8.4,  8.5,  8.6,  8.7,  8.8,  8.9,  9. ,  9.1,  9.2,  9.3,\n",
       "        9.4,  9.5,  9.6,  9.7,  9.8,  9.9])"
      ]
     },
     "execution_count": 17,
     "metadata": {},
     "output_type": "execute_result"
    }
   ],
   "source": [
    "cdetailedrange"
   ]
  },
  {
   "cell_type": "markdown",
   "metadata": {},
   "source": [
    "---\n",
    "\n",
    "## Units\n",
    "\n",
    "Units are essential to engineering calculations. Units provide a quick check on all of our calculations to help reduce the number of errors in our analysis. Getting the right dimensions back from a calculation doesn't prove that the answer is correct, but getting the wrong dimensions back does prove that the answer is wrong! Unit errors from incorrect conversions are common when using apps that don't calculate with units. Engineering design work should always include units in the calculations. \n",
    "\n",
    "We use the [pint package](https://pint.readthedocs.io/) to add unit capabilities to our calculations in Python. We have imported the `pint.UnitRegistry` as 'u' and thus all of pint's units can be used by placing a 'u.' in front of the unit name. Meters are `u.m`, seconds are `u.s`, etc. Most units are simple values that can be used just like other terms in algebraic equations. The exception to this are units that have an offset. For example, in the equation PV=nRT, temperature must be given with units that have value of zero at absolute zero. We would like to be able to enter 20 degC into that equation and have it handle the units correctly. But you can't convert from degC to Kelvin by simply multiplying by a conversion factor. Thus for temperature the units have to be handled in a special way.\n",
    "\n",
    "Temperatures require use of the u.Quantity function to enter the value and the units of temperature separated by a ',' rather than by a multiplication symbol. This is because it doesn't make sense to multiply by a temperature unit because temperatures (that aren't absolute temperatures) have both a slope and a nonzero intercept.\n",
    "\n",
    "You can find [constants that are defined in pint](https://github.com/hgrecco/pint/blob/master/pint/constants_en.txt) at the github page for pint.\n",
    "\n",
    "Below is a simple calculation illustrating the use of units to calculate the flow through a vertical pipe given a velocity and an inner diameter. We will illustrate how to calculate pipe diameters further ahead in the tutorial."
   ]
  },
  {
   "cell_type": "code",
   "execution_count": 18,
   "metadata": {},
   "outputs": [
    {
     "data": {
      "text/html": [
       "0.0005067074790974977 meter<sup>2</sup> millimeter/second"
      ],
      "text/latex": [
       "$0.0005067074790974977\\ \\frac{\\mathrm{meter}^{2} \\cdot \\mathrm{millimeter}}{\\mathrm{second}}$"
      ],
      "text/plain": [
       "<Quantity(0.0005067074790974977, 'meter ** 2 * millimeter / second')>"
      ]
     },
     "execution_count": 18,
     "metadata": {},
     "output_type": "execute_result"
    }
   ],
   "source": [
    "V_up = 1*u.mm/u.s\n",
    "D_reactor = 1*u.inch\n",
    "A_reactor = pc.area_circle(D_reactor)\n",
    "Q_reactor = V_up*A_reactor\n",
    "Q_reactor"
   ]
  },
  {
   "cell_type": "markdown",
   "metadata": {},
   "source": [
    "The result isn't formatted very nicely. We can select the units we'd like to display by using the `.to` method."
   ]
  },
  {
   "cell_type": "code",
   "execution_count": 19,
   "metadata": {},
   "outputs": [
    {
     "data": {
      "text/html": [
       "0.5067074790974977 milliliter/second"
      ],
      "text/latex": [
       "$0.5067074790974977\\ \\frac{\\mathrm{milliliter}}{\\mathrm{second}}$"
      ],
      "text/plain": [
       "<Quantity(0.5067074790974977, 'milliliter / second')>"
      ]
     },
     "execution_count": 19,
     "metadata": {},
     "output_type": "execute_result"
    }
   ],
   "source": [
    "Q_reactor.to(u.mL/u.s)"
   ]
  },
  {
   "cell_type": "markdown",
   "metadata": {},
   "source": [
    "We can also force the display to be in the metric base units"
   ]
  },
  {
   "cell_type": "code",
   "execution_count": 20,
   "metadata": {},
   "outputs": [
    {
     "data": {
      "text/html": [
       "5.067074790974977e-07 meter<sup>3</sup>/second"
      ],
      "text/latex": [
       "$5.067074790974977e-07\\ \\frac{\\mathrm{meter}^{3}}{\\mathrm{second}}$"
      ],
      "text/plain": [
       "<Quantity(5.067074790974977e-07, 'meter ** 3 / second')>"
      ]
     },
     "execution_count": 20,
     "metadata": {},
     "output_type": "execute_result"
    }
   ],
   "source": [
    "Q_reactor.to_base_units()"
   ]
  },
  {
   "cell_type": "markdown",
   "metadata": {},
   "source": [
    "If you need to strip units from a quantity (for example, for calculations using funtions that don't support units) you can use the `.magnitude` method. It is important that you force the quantity to be in the correct units before stripping the units."
   ]
  },
  {
   "cell_type": "code",
   "execution_count": 21,
   "metadata": {},
   "outputs": [
    {
     "data": {
      "text/plain": [
       "0.5067074790974977"
      ]
     },
     "execution_count": 21,
     "metadata": {},
     "output_type": "execute_result"
    }
   ],
   "source": [
    "Q_reactor.to(u.mL/u.s).magnitude"
   ]
  },
  {
   "cell_type": "markdown",
   "metadata": {},
   "source": [
    "### Significant digits\n",
    "Python will happily display results with 17 digits of precision. We'd like to display a reasonable number of significant digits so that we don't get distracted with 14 digits of useless information. We created a [sig function in the AguaClara_design repository](https://github.com/AguaClara/AguaClara_design/blob/master/utility.py) that allows you to specify the number of significant digits to display. You can couple this with the print function to create a well formatted solution to a calculation. The sig function also displays the accompanying units.  \n",
    "\n",
    "The sig function call is `ut.sig(value, sigfig)`. "
   ]
  },
  {
   "cell_type": "markdown",
   "metadata": {},
   "source": [
    "### Example problem and solution.\n",
    "Calculate the number of moles of methane in a 20 L container at 15 psi above atmospheric pressure with a temperature of 30 C."
   ]
  },
  {
   "cell_type": "code",
   "execution_count": 22,
   "metadata": {},
   "outputs": [
    {
     "name": "stdout",
     "output_type": "stream",
     "text": [
      "There are 1.62 mol of methane in the container.\n"
     ]
    },
    {
     "data": {
      "text/html": [
       "1.6246299433154001 mole"
      ],
      "text/latex": [
       "$1.6246299433154001\\ \\mathrm{mole}$"
      ],
      "text/plain": [
       "<Quantity(1.6246299433154001, 'mole')>"
      ]
     },
     "execution_count": 22,
     "metadata": {},
     "output_type": "execute_result"
    }
   ],
   "source": [
    "# First assign the values given in the problem to variables.\n",
    "P = 15 * u.psi + 1 * u.atm\n",
    "T = u.Quantity(30,u.degC)\n",
    "V = 20 * u.L\n",
    "# Use the equation PV=nRT and solve for n, the number of moles.\n",
    "# The universal gas constant is available in pint.\n",
    "nmolesmethane = (P*V/(u.R*T.to(u.kelvin))).to_base_units()\n",
    "print('There are '+ut.sig(nmolesmethane,3)+' of methane in the container.')\n",
    "nmolesmethane"
   ]
  },
  {
   "cell_type": "markdown",
   "metadata": {},
   "source": [
    "---\n",
    "\n",
    "## Functions \n",
    "\n",
    "When it becomes necessary to do the same calculation multiple times, it is useful to create a function to facilitate the calculation in the future.\n",
    "\n",
    "- Function blocks begin with the keyword def followed by the function name and parentheses ( ).\n",
    "- Any input parameters or arguments should be placed within these parentheses. \n",
    "- The code block within every function starts with a colon (:) and is indented.\n",
    "- The statement return [expression] exits a function and returns an expression to the user. A return statement with no arguments is the same as return None.\n",
    "- (Optional) The first statement of a function can the documentation string of the function or docstring, writeen with apostrophes ' '.\n",
    "\n",
    "Below is an example of a function that takes three inputs, pressure, volume, and temperature, and returns the number of moles. "
   ]
  },
  {
   "cell_type": "code",
   "execution_count": 23,
   "metadata": {
    "collapsed": true
   },
   "outputs": [],
   "source": [
    "# Creating a function is easy in Python\n",
    "def nmoles(P,V,T):\n",
    "    return (P*V/(u.R*T.to(u.kelvin))).to_base_units()"
   ]
  },
  {
   "cell_type": "markdown",
   "metadata": {},
   "source": [
    "Try using the new function to solve the same problem as above. You can reuse the variables. You can use the new function call inside the print statement."
   ]
  },
  {
   "cell_type": "code",
   "execution_count": 24,
   "metadata": {},
   "outputs": [
    {
     "name": "stdout",
     "output_type": "stream",
     "text": [
      "There are 1.62 mol of methane in the container.\n"
     ]
    }
   ],
   "source": [
    "print('There are '+ut.sig(nmoles(P,V,T),3)+' of methane in the container.')"
   ]
  },
  {
   "cell_type": "markdown",
   "metadata": {},
   "source": [
    "---\n",
    "\n",
    "## Density Function\n",
    "We will create and graph functions describing density and viscosity of water as a function of temperature. We will use the [scipy 1D interpolate function](https://docs.scipy.org/doc/scipy/reference/tutorial/interpolate.html#d-interpolation-interp1d) to create smooth interpolation between the known data points to generate a smooth function."
   ]
  },
  {
   "cell_type": "markdown",
   "metadata": {},
   "source": [
    "`density_water`, defined in [`physchem`](https://github.com/AguaClara/AguaClara_design/blob/master/physchem.py), is a function that returns a fluid's density at a given temperature. It has one input parameter, temperature (in Celsius)."
   ]
  },
  {
   "cell_type": "code",
   "execution_count": 25,
   "metadata": {},
   "outputs": [
    {
     "name": "stdout",
     "output_type": "stream",
     "text": [
      "The density of water at 20.0 celsius is 998.2 kg/m³.\n"
     ]
    }
   ],
   "source": [
    "# Here is an example of how you could define the function yourself if you chose.\n",
    "\n",
    "# Below are corresponding arrays of temperature and water density with appropriate units attached.\n",
    "\n",
    "# The 1d interpolation function will use a cubic spline.\n",
    "Tarray = u.Quantity([0,5,10,20,30,40,50,60,70,80,90,100],u.degC)\n",
    "rhoarray = [999.9,1000,999.7,998.2,995.7,992.2,988.1,983.2,977.8,971.8,965.3,958.4]*u.kg/u.m**3\n",
    "def DensityWater(T):\n",
    "    \n",
    "    rhointerpolated=interpolate.interp1d(Tarray, rhoarray, kind='cubic')\n",
    "    rho=rhointerpolated(T.to(u.degC))\n",
    "    return rho*u.kg/u.m**3\n",
    "\n",
    "# You can get the density of water for any temperature using this function call.\n",
    "print('The density of water at '+ut.sig(u.Quantity(20,u.degC),3) +' is '+ut.sig(DensityWater(u.Quantity(20,u.degC)),4)+'.')"
   ]
  },
  {
   "cell_type": "markdown",
   "metadata": {},
   "source": [
    "---\n",
    "\n",
    "## Pipe Database\n",
    "\n",
    "The [`pipedatabase`](https://github.com/AguaClara/AguaClara_design/blob/master/pipedatabase.py) file in the `AguaClara_design` has many useful functions concerning pipe sizing. It provides functions that calculate actual pipe inner and outer diameters given the nominal diameter of the pipe. Note that nominal diameter just means the diameter that it is called (hence the discriptor \"nominal\") and thus a 1 inch nominal diameter pipe might not have any dimensions that are actually 1 inch!"
   ]
  },
  {
   "cell_type": "code",
   "execution_count": 26,
   "metadata": {},
   "outputs": [
    {
     "data": {
      "text/html": [
       "6.625 inch"
      ],
      "text/latex": [
       "$6.625\\ \\mathrm{inch}$"
      ],
      "text/plain": [
       "<Quantity(6.625, 'inch')>"
      ]
     },
     "execution_count": 26,
     "metadata": {},
     "output_type": "execute_result"
    }
   ],
   "source": [
    "# The OD function in pipedatabase returns the outer diameter of a pipe given the nominal diameter, ND. \n",
    "pipe.OD(6*u.inch)"
   ]
  },
  {
   "cell_type": "markdown",
   "metadata": {},
   "source": [
    "The ND_SDR_available function returns the nominal diameter of a pipe that has an inner diameter equal to or greater than the requested inner diameter [SDR, standard diameter ratio](http://www.engineeringtoolbox.com/sdr-standard-dimension-ratio-d_318.html). Below we find the smallest available pipe that has an inner diameter of at least 7 cm"
   ]
  },
  {
   "cell_type": "code",
   "execution_count": 27,
   "metadata": {},
   "outputs": [
    {
     "data": {
      "text/html": [
       "3.0 inch"
      ],
      "text/latex": [
       "$3.0\\ \\mathrm{inch}$"
      ],
      "text/plain": [
       "<Quantity(3.0, 'inch')>"
      ]
     },
     "execution_count": 27,
     "metadata": {},
     "output_type": "execute_result"
    }
   ],
   "source": [
    "IDmin = 7 * u.cm\n",
    "SDR = 26\n",
    "ND_my_pipe = pipe.ND_SDR_available(IDmin,SDR)\n",
    "ND_my_pipe "
   ]
  },
  {
   "cell_type": "markdown",
   "metadata": {},
   "source": [
    "The actual inner diameter of this pipe is"
   ]
  },
  {
   "cell_type": "code",
   "execution_count": 28,
   "metadata": {},
   "outputs": [
    {
     "name": "stdout",
     "output_type": "stream",
     "text": [
      "8.2 cm\n"
     ]
    }
   ],
   "source": [
    "ID_my_pipe = pipe.ID_SDR(ND_my_pipe,SDR)\n",
    "print(ut.sig(ID_my_pipe.to(u.cm),2))"
   ]
  },
  {
   "cell_type": "markdown",
   "metadata": {},
   "source": [
    "We can display the available nominal pipe sizes that are in our database."
   ]
  },
  {
   "cell_type": "code",
   "execution_count": 29,
   "metadata": {},
   "outputs": [
    {
     "data": {
      "text/html": [
       "\\[\\begin{pmatrix}0.5 & 1.0 & 2.0 & 3.0 & 4.0 & 6.0 & 8.0 & 10.0 & 12.0 & 16.0 & 18.0 & 24.0 & 30.0 & 36.0 & 48.0 & 60.0 & 72.0\\end{pmatrix} inch\\]"
      ],
      "text/latex": [
       "$\\begin{pmatrix}0.5 & 1.0 & 2.0 & 3.0 & 4.0 & 6.0 & 8.0 & 10.0 & 12.0 & 16.0 & 18.0 & 24.0 & 30.0 & 36.0 & 48.0 & 60.0 & 72.0\\end{pmatrix}\\ \\mathrm{inch}$"
      ],
      "text/plain": [
       "<Quantity([  0.5   1.    2.    3.    4.    6.    8.   10.   12.   16.   18.   24.\n",
       "  30.   36.   48.   60.   72. ], 'inch')>"
      ]
     },
     "execution_count": 29,
     "metadata": {},
     "output_type": "execute_result"
    }
   ],
   "source": [
    "pipe.ND_all_available()"
   ]
  },
  {
   "cell_type": "markdown",
   "metadata": {},
   "source": [
    "---\n",
    "\n",
    "## Physchem\n",
    "The 'AguaClara_design' [physchem](https://github.com/AguaClara/AguaClara_design/blob/master/physchem.py) has many useful fluids functions including Reynolds number, head loss equation, orifice equations, viscosity etc. "
   ]
  },
  {
   "cell_type": "markdown",
   "metadata": {},
   "source": [
    "---\n",
    "\n",
    "## Viscosity Functions"
   ]
  },
  {
   "cell_type": "code",
   "execution_count": 30,
   "metadata": {},
   "outputs": [
    {
     "name": "stdout",
     "output_type": "stream",
     "text": [
      "The kinematic viscosity of water at 20 celsius is 1.00e-6 m²/s\n"
     ]
    }
   ],
   "source": [
    "#Define the temperature of the fluid so that we can calculate the kinematic viscosity\n",
    "temperature = u.Quantity(20,u.degC)\n",
    "#Calculate the kinematic viscosity using the function in physchem which we access using \"pc\"\n",
    "nu=pc.viscosity_kinematic(temperature)\n",
    "print('The kinematic viscosity of water at '+ut.sig(temperature,2)+' is '+ut.sig(nu,3))"
   ]
  },
  {
   "cell_type": "markdown",
   "metadata": {},
   "source": [
    "---\n",
    "\n",
    "\n",
    "## Our First Graph!\n",
    "\n",
    "We will use [matplotlib](https://matplotlib.org/) to create a graph of water density as a function of temperature. [Here](https://matplotlib.org/users/pyplot_tutorial.html) is a quick tutorial on graphing. "
   ]
  },
  {
   "cell_type": "code",
   "execution_count": 31,
   "metadata": {},
   "outputs": [
    {
     "data": {
      "image/png": "[encoded data removed]",
      "text/plain": [
       "<matplotlib.figure.Figure at 0xc02f2425f8>"
      ]
     },
     "metadata": {},
     "output_type": "display_data"
    }
   ],
   "source": [
    "# Create a list of 100 numbers between 0 and 100 and then assign the units of degC to the array. \n",
    "# This array will be the x values of the graph.\n",
    "\n",
    "GraphTarray = u.Quantity(np.arange(100),u.degC)\n",
    "\n",
    "#Note the use of the .to method below to display the results in a particular set of units.\n",
    "plt.plot(GraphTarray, pc.viscosity_kinematic(GraphTarray).to(u.mm**2/u.s), '-')\n",
    "plt.xlabel('Temperature (degrees Celcius)')\n",
    "plt.ylabel('Viscosity (mm^2/s)')\n",
    "plt.show()"
   ]
  },
  {
   "cell_type": "markdown",
   "metadata": {},
   "source": [
    "### Reynolds number\n",
    "We will use the physchem functions to calculate the Reynolds number for flow through a pipe."
   ]
  },
  {
   "cell_type": "code",
   "execution_count": 32,
   "metadata": {},
   "outputs": [
    {
     "data": {
      "text/plain": [
       "60124.953167297012"
      ]
     },
     "execution_count": 32,
     "metadata": {},
     "output_type": "execute_result"
    }
   ],
   "source": [
    "Q = 5*u.L/u.s\n",
    "D = pipe.ID_SDR(4*u.inch,26)\n",
    "\n",
    "Reynolds_pipe = pc.re_pipe(Q,D,nu)\n",
    "Reynolds_pipe"
   ]
  },
  {
   "cell_type": "markdown",
   "metadata": {},
   "source": [
    "Now use the sig function to display calulated values to a user specified number of significant figures. "
   ]
  },
  {
   "cell_type": "code",
   "execution_count": 33,
   "metadata": {},
   "outputs": [
    {
     "name": "stdout",
     "output_type": "stream",
     "text": [
      "The Reynolds number is 6.01e+4\n"
     ]
    }
   ],
   "source": [
    "print('The Reynolds number is '+ut.sig(pc.re_pipe(Q,D,nu),3))"
   ]
  },
  {
   "cell_type": "markdown",
   "metadata": {},
   "source": [
    "Here is a table of a few of the equations describing pipe flow and their physchem function counterparts. "
   ]
  },
  {
   "cell_type": "markdown",
   "metadata": {},
   "source": [
    "## Assorted Fluids Functions\n",
    "\n",
    "| Equation Name                         |                                                                                            Equation                                                                                           |                       Physchem function                      |\n",
    "|---------------------------------------|:---------------------------------------------------------------------------------------------------------------------------------------------------------------------------------------------:|:------------------------------------------------------------:|\n",
    "| Reynolds Number                       |                                                                                 $Re= \\frac{{4Q}}{{\\pi D\\nu }}$                                                                                |                 `re_pipe(FlowRate, Diam, Nu)`                |\n",
    "| Swamee-Jain Turbulent Friction factor           |                ${\\rm{f}} = \\frac{{0.25}}{{{{\\left[ {\\log \\left( {\\frac{\\varepsilon }{{3.7D}} + \\frac{{5.74}}{{{{{\\mathop{\\rm Re}\\nolimits} }^{0.9}}}}} \\right)} \\right]}^2}}}$                |             `fric(FlowRate, Diam, Nu, PipeRough)`            |\n",
    "| Laminar Friction factor           |                ${\\rm{f}} = \\frac{64}{Re}$                |                         |\n",
    "| Hagen Pousille laminar flow head loss |                                                   ${h_{\\rm{f}}} = \\frac{{32\\mu LV}}{{\\rho g{D^2}}} = \\frac{{128\\mu LQ}}{{\\rho g\\pi {D^4}}}$                                                   |                                                              |\n",
    "| Darcy Weisbach head loss              |                                                             ${h_{\\rm{f}}} = {\\rm{f}}\\frac{8}{{g{\\pi ^2}}}\\frac{{L{Q^2}}}{{{D^5}}}$                                                            |    `headloss_fric(FlowRate, Diam, Length, Nu, PipeRough)`    |\n",
    "| Swamee-Jain equation for diameter                              | $0.66\\left ( \\varepsilon ^{1.25}\\left ( \\frac{LQ^{2}}{gh_{f}} \\right )^{4.75}+\\nu Q^{9.4}\\left ( \\frac{L}{gh_{f}} \\right )^{5.2} \\right )^{0.04}$| `diam_swamee(FlowRate, HeadLossFric, Length, Nu, PipeRough)` |"
   ]
  },
  {
   "cell_type": "code",
   "execution_count": 34,
   "metadata": {},
   "outputs": [
    {
     "data": {
      "image/png": "[encoded data removed]",
      "text/plain": [
       "<matplotlib.figure.Figure at 0xc02f4034e0>"
      ]
     },
     "metadata": {},
     "output_type": "display_data"
    }
   ],
   "source": [
    "# create a plot that shows both the original data values (plotted as points) \n",
    "# and the smooth curve that shows the density function.\n",
    "# Note that Tarray and rhoarray were defined much earlier in this tutorial.\n",
    "\n",
    "#We will plot the data points using circles 'o' and the smooth function using a line '-'.\n",
    "\n",
    "plt.plot(Tarray, rhoarray, 'o', GraphTarray, (DensityWater(GraphTarray)), '-')\n",
    "# For an x axis log scale use plt.semilogx(Tarray, rhoarray, 'o', xnew, f2(xnew), '-')\n",
    "# For a y axis log scale use plt.semilogy(Tarray, rhoarray, 'o', xnew, f2(xnew), '-')\n",
    "# For both axis log scale use plt.loglog(Tarray, rhoarray, 'o', xnew, f2(xnew), '-')\n",
    "\n",
    "\n",
    "#Below we create the legend and axis labels\n",
    "plt.legend(['data', 'cubic'], loc='best')\n",
    "plt.xlabel('Temperature (degrees Celcius)', fontsize=20)\n",
    "plt.ylabel('Density (kg/m^3)', fontsize=20)\n",
    "\n",
    "\n",
    "#Now we show the graph and we are done!\n",
    "plt.show()  "
   ]
  },
  {
   "cell_type": "markdown",
   "metadata": {},
   "source": [
    "# Design Challenge 1, learning Python, Jupyter, and some AguaClara Design Functions"
   ]
  },
  {
   "cell_type": "markdown",
   "metadata": {},
   "source": [
    "### 1) \n",
    "Calculate the minimum inner diameter of a PVC pipe that can carry a flow of at least 10 L/s for the town of Ojojona. The population is 4000 people. The water source is a dam with a surface elevation of 1500 m. The pipeline connects the reservoir to the discharge into a distribution tank at an elevation of 1440 m. The pipeline length is 2.5 km. The pipeline is made with PVC pipe with an SDR (standard diameter ratio) of 26.\n",
    "\n",
    "The pipeline inlet at the dam is a square edge with a minor loss coefficient (${K_e}$) of 0.5. The discharge at the top of the distribution tank results in a loss of all of the kinetic energy and thus the exit minor loss coefficient is 1. See the minor loss equation below.\n",
    "\n",
    "${h_e} = {K_e}\\frac{{{V^2}}}{{2g}}$\n",
    "\n",
    "The water temperature ranges from 10 to 30 Celsius. The roughness of a PVC pipe is approximately 0.1 mm. Use the fluids functions to calculate the minimum inner pipe diameter to carry this flow from the dam to the distribution tank.\n",
    "\n",
    "Report the following \n",
    "* critical design temperature\n",
    "* kinematic viscosity (maximum viscosity will occur at the lowest temperature)\n",
    "* the minimum inner pipe diameter (in mm). \n",
    "Use complete sentences to report the results and use 2 significant digits (use the sig function)."
   ]
  },
  {
   "cell_type": "code",
   "execution_count": 35,
   "metadata": {},
   "outputs": [
    {
     "name": "stdout",
     "output_type": "stream",
     "text": [
      "The critical water temperature for this design is 10 degC.\n",
      "The kinematic viscosity of water is 1.3e-6 m²/s.\n",
      "The minimum pipe inner diameter is 97 mm.\n"
     ]
    }
   ],
   "source": [
    "SDR = 26\n",
    "Q = 10 * u.L/u.s\n",
    "delta_elevation = 1500 * u.m - 1440 * u.m\n",
    "L_pipe = 2.5 * u.km\n",
    "# am using 0 minor losses because pipe diameter function fails if not zero.\n",
    "K_minor = 1.5\n",
    "# The maximum viscosity will occur at the lowest temperature.\n",
    "T_crit = u.Quantity(10,u.degC)\n",
    "nu = pc.viscosity_kinematic(T_crit)\n",
    "e = 0.1 * u.mm\n",
    "pipeline_ID_min = pc.diam_pipe(Q,delta_elevation,L_pipe,nu,e,K_minor)\n",
    "print('The critical water temperature for this design is '+ str(T_crit)+'.')\n",
    "print('The kinematic viscosity of water is '+ut.sig(nu,2)+'.')\n",
    "print('The minimum pipe inner diameter is '+ ut.sig(pipeline_ID_min.to(u.mm),2)+'.')"
   ]
  },
  {
   "cell_type": "markdown",
   "metadata": {},
   "source": [
    "### 2)\n",
    "Find the nominal diameter of a PVC pipe that is SDR 26. SDR means standard diameter ratio. The thickness of the pipe wall is 1/SDR of the outside diameter. The pipedatabase file has a useful function that returns nominal diameter given SDR and inner diameter.  "
   ]
  },
  {
   "cell_type": "code",
   "execution_count": 36,
   "metadata": {},
   "outputs": [
    {
     "name": "stdout",
     "output_type": "stream",
     "text": [
      "The nominal diameter of the pipeline is 4.0 in (1.0e+2 mm).\n"
     ]
    }
   ],
   "source": [
    "pipeline_ND = pipe.ND_SDR_available(pipeline_ID_min,SDR)\n",
    "print('The nominal diameter of the pipeline is '+ut.sig(pipeline_ND,2)+' ('+ut.sig(pipeline_ND.to(u.mm),2)+').')"
   ]
  },
  {
   "cell_type": "markdown",
   "metadata": {
    "collapsed": true
   },
   "source": [
    "### 3) \n",
    "What is the actual inner diameter of this pipe in mm? Compare this with the [reported inner diameter for SDR-26 pipe](http://www.cresline.com/pdf/cresline-northwest/pvcpressupipeline_Re/CNWPVC-26.pdf) to see if our pipe database is reporting the correct value."
   ]
  },
  {
   "cell_type": "code",
   "execution_count": 37,
   "metadata": {},
   "outputs": [
    {
     "name": "stdout",
     "output_type": "stream",
     "text": [
      "The inner diameter of the pipe is 106 mm.\n",
      "Cresline reports the inner diameter is 106 mm.\n"
     ]
    }
   ],
   "source": [
    "pipeline_ID = pipe.ID_SDR(pipeline_ND,SDR)\n",
    "cresline_ID = 4.154*u.inch\n",
    "print('The inner diameter of the pipe is '+ut.sig(pipeline_ID.to(u.mm),3)+'.')\n",
    "print('Cresline reports the inner diameter is '+ut.sig(cresline_ID.to(u.mm),3)+'.')"
   ]
  },
  {
   "cell_type": "markdown",
   "metadata": {},
   "source": [
    "### 4) \n",
    "What is the maximum flow rate that can be carried by this pipe at the coldest design temperature?\n",
    "Display the flow rate in L/s using the .to method."
   ]
  },
  {
   "cell_type": "code",
   "execution_count": 38,
   "metadata": {},
   "outputs": [
    {
     "name": "stdout",
     "output_type": "stream",
     "text": [
      "The maximum flow rate at 10 celsius is 13.24 l/s.\n"
     ]
    }
   ],
   "source": [
    "pipeline_Q_max = pc.flow_pipe(pipeline_ID,delta_elevation,L_pipe,nu,e,K_minor)\n",
    "print('The maximum flow rate at '+ut.sig(T_crit,2)+' is '+ut.sig(pipeline_Q_max.to(u.L/u.s),4)+'.')"
   ]
  },
  {
   "cell_type": "markdown",
   "metadata": {},
   "source": [
    "### 5) \n",
    "What is the Reynolds number and friction factor for this maximum flow? Assign these values to variable names so you can plot them later on the Moody diagram."
   ]
  },
  {
   "cell_type": "code",
   "execution_count": 39,
   "metadata": {},
   "outputs": [
    {
     "name": "stdout",
     "output_type": "stream",
     "text": [
      "The Reynolds number and friction factor for the pipeline flow are 1.2e+5 and 0.022 respectively.\n"
     ]
    }
   ],
   "source": [
    "pipeline_Re = pc.re_pipe(pipeline_Q_max,pipeline_ID,nu)\n",
    "fPipe = pc.fric(pipeline_Q_max,pipeline_ID,nu,e)\n",
    "print('The Reynolds number and friction factor for the pipeline flow are '+ut.sig(pipeline_Re,2)+' and '+ut.sig(fPipe,2)+' respectively.')"
   ]
  },
  {
   "cell_type": "markdown",
   "metadata": {},
   "source": [
    "### 6) \n",
    "Check to see if the fluids functions are internally consistent by calculating the head loss given the flow rate that you calculated and comparing that head loss with the elevation difference. Display enough significant digits to see the difference in the two values. Note that the Moody diagram has an accuracy of about ±5% for smooth pipes and ±10% for rough pipes [Moody, 1944](http://user.engineering.uiowa.edu/~me_160/lecture_notes/MoodyLFpaper1944.pdf)."
   ]
  },
  {
   "cell_type": "code",
   "execution_count": 40,
   "metadata": {},
   "outputs": [
    {
     "name": "stdout",
     "output_type": "stream",
     "text": [
      "The head loss is 60.5 m and that is close to the elevation difference of 60.0 m.\n"
     ]
    }
   ],
   "source": [
    "HLCheck = pc.headloss(pipeline_Q_max,pipeline_ID,L_pipe,nu,e,K_minor)\n",
    "print('The head loss is '+ut.sig(HLCheck,3)+' and that is close to the elevation difference of '+ut.sig(delta_elevation,3)+'.')"
   ]
  },
  {
   "cell_type": "markdown",
   "metadata": {},
   "source": [
    "### 7) \n",
    "How much more water (both volumetric and mass rate) will flow through the pipe at the maximum water temperature of 30 C? Take into account both the change in viscosity (changes the flow rate) and the change in density (changes the mass rate). Report the flow rates in L/s."
   ]
  },
  {
   "cell_type": "code",
   "execution_count": 41,
   "metadata": {},
   "outputs": [
    {
     "name": "stdout",
     "output_type": "stream",
     "text": [
      "The increase in flow rate at 30 celsius is 0.24 l/s.\n",
      "The increase in mass rate at 30 celsius is 0.19 kg/s.\n"
     ]
    }
   ],
   "source": [
    "Tmax = u.Quantity(30,u.degC)\n",
    "nuhot = pc.viscosity_kinematic(Tmax)\n",
    "pipeline_Q_maxhot = pc.flow_pipe(pipeline_ID,delta_elevation,L_pipe,nuhot,e,K_minor)\n",
    "QDelta = pipeline_Q_maxhot-pipeline_Q_max\n",
    "MassFlowDelta = (pipeline_Q_maxhot*DensityWater(Tmax)-pipeline_Q_max*DensityWater(T_crit)).to_base_units()\n",
    "print('The increase in flow rate at '+ut.sig(Tmax,2)+' is '+ut.sig(QDelta.to(u.L/u.s),2)+'.')\n",
    "print('The increase in mass rate at '+ut.sig(Tmax,2)+' is '+ut.sig(MassFlowDelta,2)+'.')"
   ]
  },
  {
   "cell_type": "markdown",
   "metadata": {},
   "source": [
    "### 8)\n",
    "Why is the flow increase due to this temperature change so small given that viscosity actually changed significantly (see the calculation below)?"
   ]
  },
  {
   "cell_type": "code",
   "execution_count": 42,
   "metadata": {},
   "outputs": [
    {
     "name": "stdout",
     "output_type": "stream",
     "text": [
      "The viscosity ratio for the two temperatures was 0.62.\n"
     ]
    }
   ],
   "source": [
    "print('The viscosity ratio for the two temperatures was '+ut.sig(pc.viscosity_kinematic(Tmax)/pc.viscosity_kinematic(T_crit),2)+'.')"
   ]
  },
  {
   "cell_type": "markdown",
   "metadata": {},
   "source": [
    "The flow is turbulent and thus viscosity has little influence on the flow rate."
   ]
  },
  {
   "cell_type": "markdown",
   "metadata": {},
   "source": [
    "### 9)\n",
    "Suppose an AguaClara plant is designed to be built up the hill from the distribution tank. The  transmission line will need to be lengthened by 30 m and the elevation of the inlet to the entrance tank will be 1450 m. The rerouting will also require the addition of 3 elbows with a minor loss coefficient of 0.3 each. What is the new maximum flow from the water source?"
   ]
  },
  {
   "cell_type": "code",
   "execution_count": 43,
   "metadata": {},
   "outputs": [
    {
     "name": "stdout",
     "output_type": "stream",
     "text": [
      "The new maximum flow rate at 10 celsius is 11.95 l/s.\n"
     ]
    }
   ],
   "source": [
    "delta_elevationnew = 1500*u.m - 1450*u.m\n",
    "L_pipenew = 2.5*u.km + 30*u.m\n",
    "Knew = 1.5+3*0.3\n",
    "pipeline_Q_maxnew = pc.flow_pipe(pipeline_ID,delta_elevationnew,L_pipenew,nu,e,Knew)\n",
    "print('The new maximum flow rate at '+ut.sig(T_crit,2)+' is '+ut.sig(pipeline_Q_maxnew.to(u.L/u.s),4)+'.')"
   ]
  },
  {
   "cell_type": "markdown",
   "metadata": {},
   "source": [
    "### 10)\n",
    "How much less water will flow through the transmission line after the line is rerouted?"
   ]
  },
  {
   "cell_type": "code",
   "execution_count": 44,
   "metadata": {},
   "outputs": [
    {
     "name": "stdout",
     "output_type": "stream",
     "text": [
      "The reduction in flow is 1.3 l/s.\n"
     ]
    }
   ],
   "source": [
    "print('The reduction in flow is '+ut.sig((pipeline_Q_max-pipeline_Q_maxnew).to(u.L/u.s),2)+'.')"
   ]
  },
  {
   "cell_type": "markdown",
   "metadata": {},
   "source": [
    "<div class=\"alert alert-block alert-danger\">\n",
    "\n",
    "We noticed that many of you are having some difficulty with naming convention and syntax.\n",
    "\n",
    "\n",
    "Please refer to the following for Github [Standards Page](https://github.com/AguaClara/aide_design/wiki/Standards) for naming standards. \n",
    "\n",
    "Additionally, here is a Github [Variable Naming Guide](https://github.com/AguaClara/aide_design/wiki/Variable-Naming) that will be useful for creating variable names. "
   ]
  },
  {
   "cell_type": "markdown",
   "metadata": {},
   "source": [
    "### 11)\n",
    "There exists a function within the physchem file called `pc.fric(FlowRate, Diam, Nu, PipeRough)` that returns the friction factor for both laminar and turbulent flow. In this problem, you will be creating a new function which you shall call `fofRe()` that takes the Reynolds number and the dimensionless pipe roughness (ε/D) as inputs.\n",
    "\n",
    "Recall that the format for defining a function is \n",
    "\n",
    "`def fofRe(input1, input2):\n",
    "    f = buncha stuff\n",
    "    return f`\n",
    "\n",
    "Since the equation for calculating the friction factor is different for laminar and turbulent flow (with the transition Reynolds number being defined within the physchem file), you will need to use an `if, else` statement for the two conditions. The two friction factor equations are given in the **Assorted Fluids Functions** table. "
   ]
  },
  {
   "cell_type": "code",
   "execution_count": null,
   "metadata": {
    "collapsed": true
   },
   "outputs": [],
   "source": []
  },
  {
   "cell_type": "markdown",
   "metadata": {},
   "source": [
    "### 12) \n",
    "\n",
    "Create a beautiful Moody diagram. Include axes labels and show a legend that clearly describes each plot. The result should look like the picture of the graph below.![](Moody.png)"
   ]
  },
  {
   "cell_type": "markdown",
   "metadata": {},
   "source": [
    "### 12a)\n",
    "You will be creating a Moody diagram showing Reynolds number vs friction factor for multiple dimensionless pipe roughnesses. The first step to do this is to define the number of dimensionless pipe roughnesses you want to plot. We will plot 8 curves for the following values: 0, 0.0001, 0.0003, 0.001, 0.003, 0.01, 0.03, 0.1. We will plot an additional curve, which will be a straight line, for laminar flow, since it is not dependent on the pipe roughness value (see the Moody diagram above).\n",
    "\n",
    "* Create an array for the dimensionless pipe roughness values, using `np.array([])`.\n",
    "* Specify the amount of data points you want to plot for each curve. We will be using 50 points.\n",
    "\n",
    "Because the Moody diagram is a log-log plot, we need to ensure that all 50 points on the diagram we are creating are equally spaced in log-space. Use the `np.logspace(input1, input2, input3)` function to create an array for turbulent Reynolds numbers and an array for laminar Reynolds numbers.\n",
    "* `input1` is the exponent for the lower bound of the range. For example, if you want your lower bound to be 1000, your input should be `math.log10(1000)` which is equal to 3.\n",
    "* `input2` is the exponent for the upper bound of the range. Format this input as you have formatted `input1`.\n",
    "* `input3` is the number of data points you are using for each curve.\n",
    "\n",
    "**12a) Deliverables**\n",
    "* Array of dimentionless pipe roughnesses. Call this array `eGraph`.\n",
    "* Variable defining the amount of points on each pipe roughness curve\n",
    "* Two arrays created using `np.logspace` which for turbulent and laminar Reynolds numbers, which will be the x-axis values for the Moody diagram\n",
    "\n",
    "Note: The bounds for the laminar Reynolds numbers array should span between 670 and the predefined transition number used in Problem 11. The bounds for the turbulent Reynolds numbers array should span between 3,500 and 100,000,000. These ranges are chosen to make the curves fit well within the graph and to intentionally omit data in the transition range between laminar and turbulent flows."
   ]
  },
  {
   "cell_type": "code",
   "execution_count": null,
   "metadata": {
    "collapsed": true
   },
   "outputs": [],
   "source": []
  },
  {
   "cell_type": "markdown",
   "metadata": {},
   "source": [
    "### 12b)\n",
    "\n",
    "Now you will create the y-axis values for turbulent flow (based on dimensionless pipe roughness) and laminar flow (not based on dimensionless pipe roughness). To do this, you will use the `fofRe()` function you wrote in Problem 11 to find the friction factors. \n",
    "\n",
    "Begin by creating an empty 2-dimensional array that will be populated by the turbulent-flow friction factors for each dimensionless pipe roughness. Use `np.zeros(number of rows, number of columns)`. The number of rows should be the number of dimensionless pipe roughness values (`len(eGraph)`), while the number of columns should be the number of data points per curve as defined above.\n",
    "\n",
    "Populating this array with friction factor values will require two `for` loops, one to iterate through rows and one to iterate through columns. Recall that `for` loop syntax is as follows:\n",
    "\n",
    "`example = np.zeros((40, 30))\n",
    "for i in range(0, 40):\n",
    "    for j in range(0, 30):\n",
    "        example[i,j] = function(buncha[i],stuff[j])`\n",
    "        \n",
    "where `buncha` and `stuff` are arrays.\n",
    "\n",
    "You will repeat this process to find the friction factors for laminar flow. The only difference between the turbulent and laminar friction flow arrays will be that the laminar array will only have one dimension since it does not affected by the dimensionless pipe roughness. Start by creating an empty 1-dimensional array and then use a single `for` loop.\n",
    "        \n",
    "**12b) Deliverables**\n",
    "* One 2-D array containing friction factor values for each dimensionless pipe roughness for turbulent flow.\n",
    "* One 1-D array containing friction factor values for laminar flow."
   ]
  },
  {
   "cell_type": "code",
   "execution_count": null,
   "metadata": {
    "collapsed": true
   },
   "outputs": [],
   "source": []
  },
  {
   "cell_type": "markdown",
   "metadata": {},
   "source": [
    "### 12c)\n",
    "\n",
    "Now, we are ready to start making the Moody diagram!!!!!1!!! The plot formatting is included for you in the cell below. You will add to this cell the code that will actually plot the arrays you brought into existence in 12a) and 12b) with a legend. For the sake of your own sanity, please only add code where specified.\n",
    "\n",
    "* First, plot your arrays. See the plots in the tutorial above for the syntax. Recall that each dimensionless pipe roughness is a separate row within the 2-D array you created. To plot these roughnesses as separate curves, use a `for` loop to iterate through the rows of your array. To plot all columns in a particular row, use the `[1,:]` call on an array, where 1 is the row you are calling.\n",
    "\n",
    "\n",
    "* Plotting the laminar flow curve does not require a `for` loop because it is a 1-D array.\n",
    "    * Use a linewidth of 4 for all curves.\n",
    "\n",
    "\n",
    "\n",
    "* Now plot the data point you calculated in DC Python Tutorial 1, conveniently located a few problems above this one. Use the Reynolds number and friction factor obtained in Problem 5. Because this is a single point, it should be plotted as a circle instead of a line. Because a line composed of a single point does not exist.\n",
    "\n",
    "\n",
    "* You will need to make a legend for the graph using `leg = plt.legend(stringarray, loc = 'best')`\n",
    "    * The first input, `stringarray`, must be an array composed of strings instead of numbers. The array you created which contains the dimensionless pipe roughness values (`eGraph`) can be converted into a string array for your legend (`eGraph.astype('str'))`. You will need to add 'Laminar' and 'Pipeline' as strings to the new ` eGraph ` string array. Perhaps you will find `np.append(basestring, [('string1','string2')])` to be useful ;)\n",
    "    \n"
   ]
  },
  {
   "cell_type": "code",
   "execution_count": 45,
   "metadata": {},
   "outputs": [
    {
     "data": {
      "image/png": "[encoded data removed]",
      "text/plain": [
       "<matplotlib.figure.Figure at 0xc02f4c7a90>"
      ]
     },
     "metadata": {},
     "output_type": "display_data"
    }
   ],
   "source": [
    "#Set the size of the figure to make it big!\n",
    "plt.figure('ax',(10,8))\n",
    "\n",
    "\n",
    "#--------------------------------------------------------------------------------------\n",
    "#---------------------WRITE CODE BELOW-------------------------------------------------\n",
    "#--------------------------------------------------------------------------------------\n",
    "\n",
    "\n",
    "\n",
    "\n",
    "\n",
    "\n",
    "\n",
    "\n",
    "\n",
    "#--------------------------------------------------------------------------------------\n",
    "#---------------------WRITE CODE ABOVE-------------------------------------------------\n",
    "#--------------------------------------------------------------------------------------\n",
    "\n",
    "#LOOK AT ALL THIS COOL CODE!\n",
    "plt.yscale('log')\n",
    "plt.xscale('log')\n",
    "plt.grid(b=True, which='major', color='k', linestyle='-', linewidth=0.5)\n",
    "\n",
    "#Set the grayscale of the minor gridlines. Note that 1 is white and 0 is black.\n",
    "plt.grid(b=True, which='minor', color='0.5', linestyle='-', linewidth=0.5)\n",
    "\n",
    "#The next 2 lines of code are used to set the transparency of the legend to 1. \n",
    "#The default legend setting was transparent and was cluttered.\n",
    "\n",
    "\n",
    "plt.xlabel('Reynolds number', fontsize=30)\n",
    "plt.ylabel('Friction factor', fontsize=30)\n",
    "\n",
    "plt.show()  "
   ]
  },
  {
   "cell_type": "markdown",
   "metadata": {},
   "source": [
    "### 13) \n",
    "Researchers in the AguaClara laboratory collected the following head loss data through a 1/8\" diameter tube that was 2 m long using water at 22°C. The data is in a comma separated data (.csv) file named ['Head_loss_vs_Flow_dosing_tube_data.csv'](https://github.com/AguaClara/CEE4540_DC/blob/master/Head_loss_vs_Flow_dosing_tube_data.csv). Use the pandas read csv function (`pd.read_csv('filename.csv')`) to read the data file. Display the data so you can see how it is formatted."
   ]
  },
  {
   "cell_type": "code",
   "execution_count": null,
   "metadata": {
    "collapsed": true
   },
   "outputs": [],
   "source": []
  },
  {
   "cell_type": "markdown",
   "metadata": {},
   "source": [
    "### 14)\n",
    "Using the data table from Problem 13, assign the head loss **and flow rate** data to separate 1-D arrays. Attach the correct units. `np.array` can extract the data by simply inputting the text string of the column header. Here is example code to create the first array:\n",
    "\n",
    "`HL_data=np.array(head_loss_data['Head loss (m)'])*u.m`\n",
    "\n",
    "In the example, `head_loss_data` is the variable name to which the csv file was assigned."
   ]
  },
  {
   "cell_type": "code",
   "execution_count": null,
   "metadata": {
    "collapsed": true
   },
   "outputs": [],
   "source": []
  },
  {
   "cell_type": "markdown",
   "metadata": {},
   "source": [
    "### 15)\n",
    "Calculate and report the maximum and minimum Reynolds number for this data set. Use the tube and temperature parameters specified in Problem 13. Use the `min` and `max` functions which take arrays as their inputs."
   ]
  },
  {
   "cell_type": "code",
   "execution_count": null,
   "metadata": {
    "collapsed": true
   },
   "outputs": [],
   "source": []
  },
  {
   "cell_type": "markdown",
   "metadata": {},
   "source": [
    "### 16)\n",
    "You will now create a graph of headloss vs flow for the tube mentioned in the previous problems. This graph will have two sets of data: the real data contained within the csv file and some theoretical data. The theoretical data is what we would expect the headloss through the tube to be in an ideal world for any given flow. When calculating the theoretical headloss, assume that minor losses are negligible. Plot the data from the csv file as individual data points and the theoretical headloss as a continuous curve. Make the y-axis have units of cm and the x-axis have units of mL/s. \n",
    "\n",
    "A few hints.\n",
    "* To find the theoretical headloss, you will first need to create an array of different flow values. While you could use the values in the csv file that you extracted in Problem 14, we would instead like you to create an array of 50 equally-spaced flow values. These values shall be between the minimum and maximum flows in the csv file.\n",
    "* You can use the `np.linspace(input1, input2, input3)` function to create this set of equally-spaced flows. Inputs for `np.linspace` are the same as they were for `np.logspace`, which was used in Problem 12a). Linspace does not work with units; you will need to remove the units (using `.magnitude`) from the inputs to `np.logspace` and then reattach the correct units of flow after creating the array.\n",
    "* The `pc.headloss_fric` function can handle arrays as inputs, so that makes it easy to produce the theoretical headloss array once you have finished your equally-spaced flow array.\n",
    "* When using `plt.plot`, make sure to convert the flow and headloss data to the desired units.\n",
    "\n"
   ]
  },
  {
   "cell_type": "code",
   "execution_count": null,
   "metadata": {
    "collapsed": true
   },
   "outputs": [],
   "source": []
  },
  {
   "cell_type": "markdown",
   "metadata": {},
   "source": [
    "The theoretical model doesn't fit the data very well. We assumed that major losses dominated. But that assumption was wrong. So let's try a more sophisticated approach where we fit minor losses to the data. Below we demonstrate the use of the [scipy curve_fit method](https://docs.scipy.org/doc/scipy/reference/generated/scipy.optimize.curve_fit.html#scipy.optimize.curve_fit) to fit the minor loss coefficient given this data set.  In this example, `Q_data` is the flow rate array for the csv file from problem 13. You should re-name this variable below to whatever you titled this variable."
   ]
  },
  {
   "cell_type": "code",
   "execution_count": 46,
   "metadata": {},
   "outputs": [
    {
     "ename": "NameError",
     "evalue": "name 'Q_data' is not defined",
     "output_type": "error",
     "traceback": [
      "\u001b[1;31m---------------------------------------------------------------------------\u001b[0m",
      "\u001b[1;31mNameError\u001b[0m                                 Traceback (most recent call last)",
      "\u001b[1;32m<ipython-input-46-220cd5b4a528>\u001b[0m in \u001b[0;36m<module>\u001b[1;34m()\u001b[0m\n\u001b[0;32m     21\u001b[0m \u001b[1;31m# The curve fit function returns a list that includes the optimal parameters and the covariance.\u001b[0m\u001b[1;33m\u001b[0m\u001b[1;33m\u001b[0m\u001b[0m\n\u001b[0;32m     22\u001b[0m \u001b[1;33m\u001b[0m\u001b[0m\n\u001b[1;32m---> 23\u001b[1;33m \u001b[0mpopt\u001b[0m\u001b[1;33m,\u001b[0m \u001b[0mpcov\u001b[0m \u001b[1;33m=\u001b[0m \u001b[0mcurve_fit\u001b[0m\u001b[1;33m(\u001b[0m\u001b[0mHL_curvefit\u001b[0m\u001b[1;33m,\u001b[0m \u001b[0mQ_data\u001b[0m\u001b[1;33m,\u001b[0m \u001b[0mHL_data\u001b[0m\u001b[1;33m,\u001b[0m \u001b[0mbounds\u001b[0m\u001b[1;33m=\u001b[0m\u001b[1;33m[\u001b[0m\u001b[1;33m[\u001b[0m\u001b[1;36m0.\u001b[0m\u001b[1;33m]\u001b[0m\u001b[1;33m,\u001b[0m\u001b[1;33m[\u001b[0m\u001b[1;36m20\u001b[0m\u001b[1;33m]\u001b[0m\u001b[1;33m]\u001b[0m\u001b[1;33m)\u001b[0m\u001b[1;33m\u001b[0m\u001b[0m\n\u001b[0m\u001b[0;32m     24\u001b[0m \u001b[1;33m\u001b[0m\u001b[0m\n\u001b[0;32m     25\u001b[0m \u001b[0mK_minor_fit\u001b[0m \u001b[1;33m=\u001b[0m \u001b[0mpopt\u001b[0m\u001b[1;33m[\u001b[0m\u001b[1;36m0\u001b[0m\u001b[1;33m]\u001b[0m\u001b[1;33m\u001b[0m\u001b[0m\n",
      "\u001b[1;31mNameError\u001b[0m: name 'Q_data' is not defined"
     ]
    }
   ],
   "source": [
    "from scipy.optimize import curve_fit\n",
    "\n",
    "# Define a new function that calculates head loss given the flow rate \n",
    "# and the parameter that we want to use curve fitting to estimate\n",
    "# Define the other known values inside the function because we won't be passing those parameters to the function.\n",
    "\n",
    "def HL_curvefit(FlowRate, KMinor):\n",
    "    # The tubing is smooth AND pipe roughness isn't significant for laminar flow.\n",
    "    PipeRough = 0*u.mm\n",
    "    L_tube = 2*u.m\n",
    "    T_data = u.Quantity(22,u.degC)\n",
    "    nu_data = pc.viscosity_kinematic(T_data)\n",
    "    D_tube = 1/8*u.inch \n",
    "    # pass all of the parameters to the head loss function and then strip the units so \n",
    "    # the curve fitting function can handle the data.\n",
    "    return (pc.headloss(FlowRate, D_tube, L_tube, nu_data, PipeRough, KMinor)).magnitude\n",
    "\n",
    "# The curve fit function will need bounds on the unknown parameters to find a real solution. \n",
    "# The bounds for K minor are 0 and 20. \n",
    "\n",
    "# The curve fit function returns a list that includes the optimal parameters and the covariance.\n",
    "\n",
    "popt, pcov = curve_fit(HL_curvefit, Q_data, HL_data, bounds=[[0.],[20]])\n",
    "\n",
    "K_minor_fit = popt[0]\n",
    "\n",
    "# Plot the raw data\n",
    "plt.plot(Q_data.to(u.mL/u.s), HL_data.to(u.cm), 'o', label='data')\n",
    "\n",
    "# Plot the curve fit equation. \n",
    "plt.plot(Q_data.to(u.mL/u.s), ((HL_curvefit(Q_data, *popt))*u.m).to(u.cm), 'r-', label='fit')\n",
    "plt.xlabel('Flow rate (mL/s)')\n",
    "plt.ylabel('Head loss (cm)')\n",
    "plt.legend()\n",
    "plt.show()\n",
    "\n",
    "#Calculate the root mean square error to estimate the goodness of fit of the model to the data\n",
    "RMSE_Kminor = (np.sqrt(np.var(np.subtract((HL_curvefit(Q_data, *popt)),HL_data.magnitude)))*u.m).to(u.cm)\n",
    "print('The root mean square error for the model fit when adjusting the minor loss coefficient was '+ut.sig(RMSE_Kminor,2))"
   ]
  },
  {
   "cell_type": "markdown",
   "metadata": {},
   "source": [
    "### 17)\n",
    "Repeat the analysis from the previous cell, but this time assume that the minor loss coefficient is zero and that diameter is the unknown parameter. The bounds specified in the line beginning with `popt, pcov` should be changed from the previous question (which had bounds from 0 to 20) to the new bounds of 0.001 to 0.01. \n",
    "\n",
    "Hint: Don't think too much about this, you only need to change the name of the defined function (perhaps \"`HL_curvefit2`\"?) and adjust its inputs/values. Please make use of the fantasticly useful copy-paste functionality."
   ]
  },
  {
   "cell_type": "code",
   "execution_count": null,
   "metadata": {
    "collapsed": true
   },
   "outputs": [],
   "source": []
  },
  {
   "cell_type": "markdown",
   "metadata": {},
   "source": [
    "### 18\n",
    "Changes to which of the two parameters, minor loss coefficient or tube diameter, results in a better fit to the data?"
   ]
  },
  {
   "cell_type": "markdown",
   "metadata": {},
   "source": []
  },
  {
   "cell_type": "markdown",
   "metadata": {},
   "source": [
    "### 19\n",
    "What did you find most difficult about learning to use Python? Create a brief example as an extension to this tutorial to help students learn the topic that you found most difficult."
   ]
  },
  {
   "cell_type": "code",
   "execution_count": null,
   "metadata": {
    "collapsed": true
   },
   "outputs": [],
   "source": []
  },
  {
   "cell_type": "markdown",
   "metadata": {},
   "source": [
    "## Final Pointer\n",
    "It is good practice to select Restart & Run All from the Kernel menu after completing an assignment to make sure that everything in your notebook works correctly and that you haven't deleted an essential line of code! \n"
   ]
  }
 ],
 "metadata": {
  "kernelspec": {
   "display_name": "Python 3",
   "language": "python",
   "name": "python3"
  },
  "language_info": {
   "codemirror_mode": {
    "name": "ipython",
    "version": 3
   },
   "file_extension": ".py",
   "mimetype": "text/x-python",
   "name": "python",
   "nbconvert_exporter": "python",
   "pygments_lexer": "ipython3",
   "version": "3.6.1"
  }
 },
 "nbformat": 4,
 "nbformat_minor": 2
}
