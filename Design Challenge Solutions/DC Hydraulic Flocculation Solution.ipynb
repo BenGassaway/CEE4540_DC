{
 "cells": [
  {
   "cell_type": "code",
   "execution_count": 1,
   "metadata": {
    "collapsed": true
   },
   "outputs": [],
   "source": [
    "from aide_design.play import*\n",
    "from aide_design import floc_model as floc\n",
    "\n",
    "#Below are the items that were imported by the code above so that you know what abbreviations to use in your code.\n",
    "\n",
    "# Third-party imports\n",
    "#import numpy as np\n",
    "#import pandas as pd\n",
    "#import matplotlib.pyplot as plt\n",
    "#import matplotlib\n",
    "\n",
    "# AIDE imports\n",
    "#import aide_design\n",
    "#import aide_design.pipedatabase as pipe\n",
    "#from aide_design.units import unit_registry as u\n",
    "#from aide_design import physchem as pc\n",
    "#import aide_design.expert_inputs as exp\n",
    "#import aide_design.materials_database as mat\n",
    "#import aide_design.utility as ut\n",
    "#import aide_design.k_value_of_reductions_utility as k\n",
    "#import aide_design.pipeline_utility as pipeline\n",
    "#import warnings"
   ]
  },
  {
   "cell_type": "markdown",
   "metadata": {},
   "source": [
    "# DC Hydraulic Flocculation"
   ]
  },
  {
   "cell_type": "markdown",
   "metadata": {
    "collapsed": true
   },
   "source": [
    "In this design challenge you will design a vertical flow hydraulic flocculator. You will use the flow rate of `flow_plant = 20 L/s` as your default design value.\n",
    "\n",
    "Although we don't require that you use the nomenclature from the AguaClara variable naming guide, it provides a reasonable basis for organizing your variable names. We use the convention that the first part of the variable name describes the type of variable and always has a unique dimension. The subsequent parts of the variable name start from the big picture and slowly add more and more detail to arrive at the precise component that you are describing. Thus space_floc_baffle is the spacing between baffles in the flocculator and n_floc_channel_baffle should be the number of baffles in a flocculator channel. width_floc_channel_port should be the width of the port connecting two flocculator channels.\n",
    "\n",
    "<span style=\"color:blue\">**In this design challenge we will use functions to calculate each step of the design. Whenever we need to access a previously calculated result we will use the function call to access that value. Using this method of nested function calls will make the entire design be only a function of a few input parameters. **</span> This makes it possible to have flexible design code and ease the creation of new plant designs.\n",
    "\n",
    "The minimum input parameters to define a flocculator are (flow_plant, headloss_floc_BOD, Gt_BOD, T_BOD). We could have included a longer list of input parameters (height_floc_end, width_PC_sheet, K_e, etc.) to make our functions even more general. But to keep our code more concise we will focus on only 4 of the input parameters. This will make it possible to easily change the input parameters to obtain new designs. We will use this capability to plot the results of varying the design flow rate."
   ]
  },
  {
   "cell_type": "markdown",
   "metadata": {},
   "source": [
    "## Hydraulic Vertical Flow Flocculator Design\n",
    "\n",
    "This challenge is design a hydraulic flocculator using the core concepts of the AguaClara design methodology.\n",
    "\n",
    "Below are the inputs for the design. BOD stands for Basis Of Design."
   ]
  },
  {
   "cell_type": "code",
   "execution_count": 2,
   "metadata": {},
   "outputs": [],
   "source": [
    "# head loss through the flocculator\n",
    "headloss_floc_BOD = 40 * u.cm\n",
    "\n",
    "# collision potential based on recent designs for AguaClara Plants\n",
    "Gt_BOD = 37000\n",
    "\n",
    "# water depth at the end of flocculator where it flows into the inlet channel of the sedimentation tank\n",
    "height_floc_end = 2 * u.m\n",
    "\n",
    "flow_plant = 20 * u.L/u.s\n",
    "\n",
    "# This is the estimate for larger plants where the flocculator is as long as the sedimentation tanks.\n",
    "# For lower flow plants we will need to reduce this length because of the constraint that the channels must\n",
    "# be wide enough to construct.\n",
    "length_channel_max = 6 * u.m\n",
    "\n",
    "# minimum and maximum ratios of distance between expansions to baffle spacing\n",
    "Pi_HS_min = 3\n",
    "Pi_HS_max = 6\n",
    "\n",
    "Pi_vc = pc.RATIO_VC_ORIFICE\n",
    "Pi_vc_baffle = Pi_vc**2\n",
    "\n",
    "# width of the polycarbonate sheets used to make baffles\n",
    "width_PC_sheet = 1.067*u.m\n",
    "\n",
    "# this is a reasonable constraint to keep the channel constructable by humans\n",
    "width_floc_min_BOD = width_PC_sheet / 2\n",
    "width_floc_max_BOD = width_PC_sheet\n",
    "\n",
    "# expansion minor loss coefficient for 180 degree bend\n",
    "K_e = (1 / Pi_vc_baffle - 1)**2\n",
    "\n",
    "# this is the minimum temperature of the raw water\n",
    "T_BOD = 15* u.degC"
   ]
  },
  {
   "cell_type": "markdown",
   "metadata": {},
   "source": [
    "### Design Algorithm Steps\n",
    "1. Calculate the total volume of flocculator given head loss and collision potential\n",
    "2. Calculate the number of channels by taking the total width and dividing by the maximum channel width\n",
    "3. Calculate the channel width (total width over number of channels)\n",
    "4. Calculate the minimum number of obstacles and spacing between obstacles by assuming a maximum H/S ratio\n",
    "5. Use the actual H/S ratio based on obstacle spacing to calculate the spacing between baffles\n",
    "6. Calculate the obstacle width to obtain the same jet expansion conditions as produced by the 180 degree bend.\n",
    "\n",
    "This algorithm does not yet handle the integer number of baffles in a channel or the thickness of the baffles\n",
    "\n",
    "For this assignment **create functions for each question** and then use those function calls whenever that calculation result is required in a subsequent step. Include flow_plant, headloss_floc_BOD, Gt_BOD and T_BOD as the inputs that can be varied for each function.\n",
    "\n",
    "__Whenever you reference a previously calculated value in a function, use the function call for that value so that dependency is not broken.__\n",
    "\n",
    "That way you will be able to easily vary any of the three main input parameters (flow, Gt, head loss) to see their effect on the design."
   ]
  },
  {
   "cell_type": "markdown",
   "metadata": {},
   "source": [
    "### 1) \n",
    "\n",
    "Estimate the average velocity gradient of a flocculator given head loss and collision potential. I'm going to solve this problem for you so you see how to use function calls."
   ]
  },
  {
   "cell_type": "code",
   "execution_count": 3,
   "metadata": {},
   "outputs": [
    {
     "name": "stdout",
     "output_type": "stream",
     "text": [
      "The average velocity gradient of flocculator is 93.24 / second\n"
     ]
    }
   ],
   "source": [
    "def G_avg(hl, Gt, T):\n",
    "    G = (pc.gravity * hl) / (Gt * pc.viscosity_kinematic(T_BOD))\n",
    "    return G.to(1/u.s)\n",
    "\n",
    "print ('The average velocity gradient of flocculator is', G_avg(headloss_floc_BOD, Gt_BOD, T_BOD))"
   ]
  },
  {
   "cell_type": "markdown",
   "metadata": {},
   "source": [
    "### 2)\n",
    "Estimate the residence time of flocculator given the target head loss and collision potential. (Note that this ignores the decrease in water depth caused by head loss. We hope to improve this design process further in the near future.)"
   ]
  },
  {
   "cell_type": "code",
   "execution_count": 4,
   "metadata": {},
   "outputs": [
    {
     "name": "stdout",
     "output_type": "stream",
     "text": [
      "The residence time of flocculator is 396.8 second\n"
     ]
    }
   ],
   "source": [
    "def t_floc_est(hl, Gt, T):\n",
    "    theta = Gt / G_avg(hl, Gt, T)\n",
    "    return theta.to(u.s)\n",
    "\n",
    "print ('The residence time of flocculator is', t_floc_est(headloss_floc_BOD, Gt_BOD, T_BOD))"
   ]
  },
  {
   "cell_type": "markdown",
   "metadata": {},
   "source": [
    "### 3)\n",
    "Plot $G\\theta$ as a function of the operating temperature given the head loss and residence time for this design. In this step you are assuming that you have built this hydraulic flocculator and you want to see how the collision potential, $G\\theta$, varies with temperature of operation.  Vary the temperature from 0°C to 30°C. The following equation makes it clear that the velocity gradient originates from head loss creates fluid deformation that is limited by viscosity."
   ]
  },
  {
   "cell_type": "markdown",
   "metadata": {},
   "source": [
    "$\\bar G\\theta  = \\sqrt {\\frac{{g{h_e}\\theta }}{\\nu }} $\n",
    "$\\theta$"
   ]
  },
  {
   "cell_type": "code",
   "execution_count": 5,
   "metadata": {},
   "outputs": [
    {
     "data": {
      "image/png": "[encoded data removed]",
      "text/plain": [
       "<matplotlib.figure.Figure at 0x60bf6c9cf8>"
      ]
     },
     "metadata": {},
     "output_type": "display_data"
    }
   ],
   "source": [
    "def Gt_operation(hl,Gt,T_BOD,T):\n",
    "    Gt_operation = np.sqrt(pc.gravity * hl * t_floc_est(hl, Gt, T_BOD)/pc.viscosity_kinematic(T))\n",
    "    return Gt_operation.to(u.dimensionless)\n",
    "Temp_Operation=np.linspace(0, 30)*u.degC\n",
    "ypoints=(Gt_operation(headloss_floc_BOD, Gt_BOD, T_BOD,Temp_Operation))\n",
    "\n",
    "plt.plot(Temp_Operation,ypoints,'-')\n",
    "#Note the use of latex. The r tells matplotlib to interpret the following strings as raw text.\n",
    "#Without the \"r\" the \\theta would be parsed as a tab (\\t) followed by heta!\n",
    "plt.xlabel(r'Temperature ($^\\circ$C)')\n",
    "plt.ylabel(r'G$\\theta$')\n",
    "plt.title(r'G$\\theta$ vs temperature')\n",
    "plt.show() "
   ]
  },
  {
   "cell_type": "markdown",
   "metadata": {},
   "source": [
    "### 4)\n",
    "The following floc model equation creates the link between $\\bar Gt$ and flocculator performance.\n",
    "\n",
    "$pC^* = \\frac{3}{2}\\log \\left( {\\frac{2}{3}\\pi k\\frac{{d_{Clay}^2}}{{\\Lambda _0^2}}\\bar Gt\\alpha  + 1} \\right) $\n",
    "\n",
    "What does the floc model and the graph tell you about flocculator performance and flocculator design? Explain why performance varies with temperature. "
   ]
  },
  {
   "cell_type": "markdown",
   "metadata": {
    "collapsed": true
   },
   "source": [
    "Flocculator performance improves with warmer temperatures because the fluid deforms more given the same input energy. Flocculators should be designed to perform well based on the coldest operating temperature that they will encounter. "
   ]
  },
  {
   "cell_type": "markdown",
   "metadata": {},
   "source": [
    "### 5)\n",
    "Calculate the volume of flocculator. Note that this volume does not take into account the extra volume that flocculator will have due to the changing water level caused by the head loss. Simply estimate the volume based on the residence time and the flow rate."
   ]
  },
  {
   "cell_type": "code",
   "execution_count": 6,
   "metadata": {},
   "outputs": [
    {
     "name": "stdout",
     "output_type": "stream",
     "text": [
      "The volume of flocculator is 7.936 meter ** 3\n"
     ]
    }
   ],
   "source": [
    "def vol_floc(flow_plant, headloss_floc_BOD, Gt_BOD, T_BOD):\n",
    "    vol = t_floc_est(headloss_floc_BOD, Gt_BOD, T_BOD )*flow_plant\n",
    "    return vol.to(u.m**3)\n",
    "\n",
    "print('The volume of flocculator is', vol_floc(flow_plant, headloss_floc_BOD, Gt_BOD, T_BOD))"
   ]
  },
  {
   "cell_type": "markdown",
   "metadata": {},
   "source": [
    "### 6)\n",
    "Calculate the actual length of the flocculator channels. This must meet two constraints. First, it must be less than or equal to the maximum channel length. Second, the channel length is limited by the flocculator volume, height, minimum number of channels, and minimum width of the channels. This second constraint is important for low flow rates so that the flocculator has the correct target volume. Make sure to use this floc channel length in subsequent calculations."
   ]
  },
  {
   "cell_type": "code",
   "execution_count": 7,
   "metadata": {},
   "outputs": [
    {
     "name": "stdout",
     "output_type": "stream",
     "text": [
      "The maximum channel length is 3.719 meter\n"
     ]
    }
   ],
   "source": [
    "def length_channel(flow_plant, headloss_floc_BOD, Gt_BOD, T_BOD):\n",
    "\n",
    "    #The factor of two below is because the minimum number of channels in the flocculator is two. \n",
    "    #This is a result of the orientation of the sedimentation tanks and the plumbing in the plant. \n",
    "    #Unless the design is for very low flows (<10 L/s), there will always be an even number of flocculator channels.\n",
    "    length = vol_floc(flow_plant, headloss_floc_BOD, Gt_BOD, T_BOD)/width_floc_min_BOD/2/height_floc_end\n",
    "    return min(length,length_channel_max)\n",
    "\n",
    "print('The maximum channel length is',length_channel(flow_plant, headloss_floc_BOD, Gt_BOD, T_BOD))"
   ]
  },
  {
   "cell_type": "markdown",
   "metadata": {},
   "source": [
    "### 7)\n",
    "Calculate the combined total width of the flocculator channels (not including walls) based on the given length and depth."
   ]
  },
  {
   "cell_type": "code",
   "execution_count": 8,
   "metadata": {},
   "outputs": [
    {
     "name": "stdout",
     "output_type": "stream",
     "text": [
      "The total width of the flocculator channels is is 1.067 meter\n"
     ]
    }
   ],
   "source": [
    "def width_floc_total(flow_plant, headloss_floc_BOD, Gt_BOD, T_BOD):\n",
    "    width_floc = vol_floc(flow_plant, headloss_floc_BOD, Gt_BOD, T_BOD)/(length_channel(flow_plant, headloss_floc_BOD, Gt_BOD, T_BOD)*height_floc_end)\n",
    "    return width_floc.to(u.m)\n",
    "\n",
    "print ('The total width of the flocculator channels is is', width_floc_total(flow_plant, headloss_floc_BOD, Gt_BOD, T_BOD))"
   ]
  },
  {
   "cell_type": "markdown",
   "metadata": {},
   "source": [
    "### 8)\n",
    "Calculate the minimum channel width required to achieve H/S>3. The channel can be wider than this, but this is the absolute minimum width for a channel. The minimum width occurs when there is only one expansion per baffle and thus the distance between expansions is the same as the depth of water at the end of the flocculator."
   ]
  },
  {
   "cell_type": "markdown",
   "metadata": {},
   "source": [
    "${W_{Min}} = \\frac{{\\Pi _{HS}}Q}{H_e}{\\left( {\\frac{K_e}{2{H_e}\\nu {\\bar G}^2}} \\right)^{\\frac{1}{3}}}$"
   ]
  },
  {
   "cell_type": "code",
   "execution_count": 9,
   "metadata": {},
   "outputs": [
    {
     "name": "stdout",
     "output_type": "stream",
     "text": [
      "The minimum channel width is 12.05 centimeter\n"
     ]
    }
   ],
   "source": [
    "def width_floc_min_est(flow_plant, headloss_floc_BOD, Gt_BOD, T_BOD):\n",
    "    Gavg = G_avg(headloss_floc_BOD, Gt_BOD, T_BOD)\n",
    "    nu = pc.viscosity_kinematic(T_BOD)\n",
    "    width_floc_min = Pi_HS_min*((K_e/(2 * height_floc_end * (Gavg**2) * nu))**(1/3))*flow_plant/height_floc_end\n",
    "    return width_floc_min.to(u.cm)\n",
    "\n",
    "print('The minimum channel width is', width_floc_min_est(flow_plant, headloss_floc_BOD, Gt_BOD, T_BOD))"
   ]
  },
  {
   "cell_type": "markdown",
   "metadata": {},
   "source": [
    "### 9)\n",
    "What is the minimum channel width given the additional constraint that it be constructable? Use the max function to find the true minimum channel width given both constraints."
   ]
  },
  {
   "cell_type": "code",
   "execution_count": 10,
   "metadata": {},
   "outputs": [
    {
     "name": "stdout",
     "output_type": "stream",
     "text": [
      "The minimum channel width is 0.5335 meter\n"
     ]
    }
   ],
   "source": [
    "def width_floc_min(flow_plant, headloss_floc_BOD, Gt_BOD, T_BOD):\n",
    "    return max(width_floc_min_est(flow_plant, headloss_floc_BOD, Gt_BOD, T_BOD),width_floc_min_BOD)\n",
    "\n",
    "print('The minimum channel width is', width_floc_min(flow_plant, headloss_floc_BOD, Gt_BOD, T_BOD))"
   ]
  },
  {
   "cell_type": "markdown",
   "metadata": {},
   "source": [
    "### 10)\n",
    "Calculate the number of channels by taking the total flocculator width (see step 7) and dividing by the minimum channel width (round down). Include the requirement that the number of channels must be even (Use the numpy floor function - look it up!). To make this function robust, make sure that it can't ever return zero channels (the max function might be useful here)! You can convert the float to an integer with the int() function."
   ]
  },
  {
   "cell_type": "code",
   "execution_count": 11,
   "metadata": {},
   "outputs": [
    {
     "name": "stdout",
     "output_type": "stream",
     "text": [
      "There are 2 channels.\n"
     ]
    }
   ],
   "source": [
    "def num_channel(flow_plant, headloss_floc_BOD, Gt_BOD, T_BOD):\n",
    "     num = (width_floc_total(flow_plant, headloss_floc_BOD, Gt_BOD, T_BOD)/\n",
    "        (width_floc_min(flow_plant, headloss_floc_BOD, Gt_BOD, T_BOD))).to(u.dimensionless)\n",
    "# floor function with step size 2   \n",
    "     num = np.floor(num/2)*2\n",
    "     return int(max(num,2))\n",
    "\n",
    "print('There are', num_channel(flow_plant, headloss_floc_BOD, Gt_BOD, T_BOD),'channels.')\n"
   ]
  },
  {
   "cell_type": "markdown",
   "metadata": {},
   "source": [
    "### 11)\n",
    "Calculate the actual channel width based on the number of channels the total flocculator width."
   ]
  },
  {
   "cell_type": "code",
   "execution_count": 12,
   "metadata": {},
   "outputs": [
    {
     "name": "stdout",
     "output_type": "stream",
     "text": [
      "The actual flocculator channel width is 53.35 centimeter\n"
     ]
    }
   ],
   "source": [
    "def width_floc(flow_plant, headloss_floc_BOD, Gt_BOD, T_BOD):\n",
    "    width_total = width_floc_total(flow_plant, headloss_floc_BOD, Gt_BOD, T_BOD)\n",
    "    num_c = num_channel(flow_plant, headloss_floc_BOD, Gt_BOD, T_BOD)\n",
    "    return (width_total/num_c).to(u.cm)               \n",
    "\n",
    "print('The actual flocculator channel width is', width_floc(flow_plant, headloss_floc_BOD, Gt_BOD, T_BOD))\n"
   ]
  },
  {
   "cell_type": "markdown",
   "metadata": {},
   "source": [
    "### 12)\n",
    "Calculate the *maximum* distance between expansions. This occurs for the largest allowable H/S ratio. Note that this isn't accounting for the integer requirement for the number of baffle spaces per channel yet."
   ]
  },
  {
   "cell_type": "markdown",
   "metadata": {},
   "source": [
    "${H_{{e_{Max}}}} = {\\left[ {\\frac{{{K_e}}}{{2\\nu {{\\bar G}^2}}}{{\\left( {\\frac{{Q{\\Pi _{H{S_{Max}}}}}}{W}} \\right)}^3}} \\right]^{\\frac{1}{4}}}$"
   ]
  },
  {
   "cell_type": "code",
   "execution_count": 13,
   "metadata": {},
   "outputs": [
    {
     "name": "stdout",
     "output_type": "stream",
     "text": [
      "The maximum distance between expansions 1.102 meter\n"
     ]
    }
   ],
   "source": [
    "def height_exp_max(flow_plant, headloss_floc_BOD, Gt_BOD, T_BOD):\n",
    "\n",
    "    g_avg = G_avg(headloss_floc_BOD, Gt_BOD, T_BOD)\n",
    "    nu = pc.viscosity_kinematic(T_BOD)\n",
    "    term1 = (K_e/(2 * (g_avg**2) * nu))**(1/4)\n",
    "\n",
    "    term2 = (Pi_HS_max*flow_plant/width_floc(flow_plant, headloss_floc_BOD, Gt_BOD, T_BOD))**(3/4)\n",
    "\n",
    "    height_exp = term1*term2\n",
    "    return height_exp.to(u.m)\n",
    "\n",
    "print('The maximum distance between expansions', height_exp_max(flow_plant, headloss_floc_BOD, Gt_BOD, T_BOD))"
   ]
  },
  {
   "cell_type": "markdown",
   "metadata": {},
   "source": [
    "### 13)\n",
    "Calculate the minimum number of expansions per baffle space."
   ]
  },
  {
   "cell_type": "code",
   "execution_count": 14,
   "metadata": {},
   "outputs": [
    {
     "name": "stdout",
     "output_type": "stream",
     "text": [
      "The number of expansions is 2\n"
     ]
    }
   ],
   "source": [
    "def num_expansions(flow_plant, headloss_floc_BOD, Gt_BOD, T_BOD):\n",
    "    return int(np.ceil(height_floc_end/(height_exp_max(flow_plant, headloss_floc_BOD, Gt_BOD, T_BOD))).to(u.dimensionless))\n",
    "\n",
    "print('The number of expansions is', num_expansions(flow_plant, headloss_floc_BOD, Gt_BOD, T_BOD))"
   ]
  },
  {
   "cell_type": "markdown",
   "metadata": {},
   "source": [
    "### 14)\n",
    "Calculate the actual distance between expansions given the integer requirement for the number of expansions per flocculator depth."
   ]
  },
  {
   "cell_type": "code",
   "execution_count": 15,
   "metadata": {},
   "outputs": [
    {
     "name": "stdout",
     "output_type": "stream",
     "text": [
      "The actual distance between expansions is 1 meter\n"
     ]
    }
   ],
   "source": [
    "def height_exp(flow_plant, headloss_floc_BOD, Gt_BOD, T_BOD):\n",
    "    \n",
    "    return height_floc_end/num_expansions(flow_plant, headloss_floc_BOD, Gt_BOD, T_BOD)\n",
    "\n",
    "\n",
    "print('The actual distance between expansions is', height_exp(flow_plant, headloss_floc_BOD, Gt_BOD, T_BOD))"
   ]
  },
  {
   "cell_type": "markdown",
   "metadata": {},
   "source": [
    "### 15)\n",
    "Calculate the spacing between baffles based on the target velocity gradient.\n",
    "\n",
    "\n",
    "$ {S} = {\\left( {\\frac{{{K_e}}}{{2\\nu {{\\bar G}^2}}{H_{{e}}}}} \\right)^{\\frac{1}{3}}}     \\frac{Q}{W}$"
   ]
  },
  {
   "cell_type": "code",
   "execution_count": 16,
   "metadata": {},
   "outputs": [
    {
     "name": "stdout",
     "output_type": "stream",
     "text": [
      "The spacing between baffles is 0.1898 meter\n"
     ]
    }
   ],
   "source": [
    "def spacing_floc(flow_plant, headloss_floc_BOD, Gt_BOD, T_BOD):\n",
    "    \n",
    "    g_avg = G_avg(headloss_floc_BOD, Gt_BOD, T_BOD)\n",
    "    nu = pc.viscosity_kinematic(T_BOD)\n",
    "    term1 = (K_e/(2 * height_exp(flow_plant, headloss_floc_BOD, Gt_BOD, T_BOD) * (g_avg**2) * nu))**(1/3)\n",
    "    \n",
    "    ans =  term1*flow_plant/width_floc(flow_plant, headloss_floc_BOD, Gt_BOD, T_BOD)\n",
    "    return ans.to(u.m)\n",
    "\n",
    "print ('The spacing between baffles is', spacing_floc(flow_plant, headloss_floc_BOD, Gt_BOD, T_BOD))"
   ]
  },
  {
   "cell_type": "markdown",
   "metadata": {},
   "source": [
    "### 16)\n",
    "How many baffle spaces would fit in the channel(s) given the length of the flocculator and the baffle spacing? Round to the nearest integer."
   ]
  },
  {
   "cell_type": "code",
   "execution_count": 17,
   "metadata": {},
   "outputs": [
    {
     "name": "stdout",
     "output_type": "stream",
     "text": [
      "The number of baffle spaces that would fit in the channels is 39\n"
     ]
    }
   ],
   "source": [
    "def num_baffles(flow_plant, headloss_floc_BOD, Gt_BOD, T_BOD):\n",
    "    num = round(num_channel(flow_plant, headloss_floc_BOD, Gt_BOD, T_BOD)*length_channel(flow_plant, headloss_floc_BOD, Gt_BOD, T_BOD)/spacing_floc(flow_plant, headloss_floc_BOD, Gt_BOD, T_BOD))\n",
    "    return int(num)\n",
    "\n",
    "print ('The number of baffle spaces that would fit in the channels is', num_baffles(flow_plant, headloss_floc_BOD, Gt_BOD, T_BOD))"
   ]
  },
  {
   "cell_type": "markdown",
   "metadata": {},
   "source": [
    "### 17)\n",
    "How many baffle spaces are needed to create the required collision potential? Note that this isn't necessarily the same number as found in Problem 16. Calculating the collision potential per baffle space is the advised first step."
   ]
  },
  {
   "cell_type": "code",
   "execution_count": 18,
   "metadata": {},
   "outputs": [
    {
     "name": "stdout",
     "output_type": "stream",
     "text": [
      "The collision potential (Gt) per baffle space is 944 dimensionless\n",
      "The minimum number of baffles required is 39\n"
     ]
    }
   ],
   "source": [
    "def Gt_baffle(flow_plant, headloss_floc_BOD, Gt_BOD, T_BOD):\n",
    "\n",
    "    term1 = spacing_floc(flow_plant, headloss_floc_BOD, Gt_BOD, T_BOD)*width_floc(flow_plant, headloss_floc_BOD, Gt_BOD, T_BOD)\n",
    "    ans = term1*G_avg(headloss_floc_BOD, Gt_BOD, T_BOD)*height_floc_end/flow_plant\n",
    "    return ans.to(u.dimensionless)\n",
    "\n",
    "print ('The collision potential (Gt) per baffle space is', Gt_baffle(flow_plant, headloss_floc_BOD, Gt_BOD, T_BOD))\n",
    "\n",
    "def num_baffle_min(flow_plant, headloss_floc_BOD, Gt_BOD, T_BOD):\n",
    "\n",
    "    ans = round(Gt_BOD/Gt_baffle(flow_plant, headloss_floc_BOD, Gt_BOD, T_BOD))\n",
    "    return int(ans)\n",
    "\n",
    "print ('The minimum number of baffles required is', num_baffle_min(flow_plant, headloss_floc_BOD, Gt_BOD, T_BOD))"
   ]
  },
  {
   "cell_type": "markdown",
   "metadata": {},
   "source": [
    "### 18)\n",
    "Do the two estimates of the number of baffle spaces agree?"
   ]
  },
  {
   "cell_type": "code",
   "execution_count": 19,
   "metadata": {},
   "outputs": [
    {
     "name": "stdout",
     "output_type": "stream",
     "text": [
      "Yes\n"
     ]
    }
   ],
   "source": [
    "if num_baffles(flow_plant, headloss_floc_BOD, Gt_BOD, T_BOD) == num_baffle_min(flow_plant, headloss_floc_BOD, Gt_BOD, T_BOD):\n",
    "    print('Yes')\n",
    "else:\n",
    "    print('No')"
   ]
  },
  {
   "cell_type": "markdown",
   "metadata": {},
   "source": [
    "### 19)\n",
    " Calculate the average velocity of the water in the flocculator. This is the velocity after the flow has expanded through each baffle/obstacle."
   ]
  },
  {
   "cell_type": "code",
   "execution_count": 20,
   "metadata": {},
   "outputs": [
    {
     "name": "stdout",
     "output_type": "stream",
     "text": [
      "The average velocity of the water in the flocculator is 0.1975 meter / second\n"
     ]
    }
   ],
   "source": [
    "def vel_floc_ave(flow_plant, headloss_floc_BOD, Gt_BOD, T_BOD):\n",
    "\n",
    "    ans = flow_plant/( spacing_floc(flow_plant, headloss_floc_BOD, Gt_BOD, T_BOD)*width_floc(flow_plant, headloss_floc_BOD, Gt_BOD, T_BOD))\n",
    "    return ans.to(u.m/u.s)\n",
    "\n",
    "print ('The average velocity of the water in the flocculator is', vel_floc_ave(flow_plant, headloss_floc_BOD, Gt_BOD, T_BOD))"
   ]
  },
  {
   "cell_type": "markdown",
   "metadata": {},
   "source": [
    "### 20)\n",
    "Calculate the depth of water at the beginning of the flocculator based on the design head loss."
   ]
  },
  {
   "cell_type": "code",
   "execution_count": 21,
   "metadata": {},
   "outputs": [
    {
     "name": "stdout",
     "output_type": "stream",
     "text": [
      "The depth of the water at the beginning of the flocculator is 2.4 meter\n"
     ]
    }
   ],
   "source": [
    "HEIGHT_WATER_FLOC_START = height_floc_end + headloss_floc_BOD\n",
    "print ('The depth of the water at the beginning of the flocculator is', HEIGHT_WATER_FLOC_START)"
   ]
  },
  {
   "cell_type": "markdown",
   "metadata": {},
   "source": [
    "### 21)\n",
    "Estimate the residence time in the hydraulic flocculator taking head loss into account. It is okay if your estimate doesn't capture all of the details of the flocculator. You don't need to account for the volume of the baffles. Simply account for the added water due to head loss. You can approximate the extra depth as a triangle."
   ]
  },
  {
   "cell_type": "code",
   "execution_count": 22,
   "metadata": {},
   "outputs": [
    {
     "name": "stdout",
     "output_type": "stream",
     "text": [
      "The residence time in the hydraulic flocculator is 7.275 minute\n"
     ]
    }
   ],
   "source": [
    "def theta_floc(flow_plant, headloss_floc_BOD, Gt_BOD, T_BOD):\n",
    "\n",
    "    theta_est = t_floc_est(headloss_floc_BOD, Gt_BOD, T_BOD)\n",
    "    ans = theta_est*((height_floc_end + (headloss_floc_BOD/2))/height_floc_end)\n",
    "    return ans.to(u.min)\n",
    "\n",
    "print ('The residence time in the hydraulic flocculator is', theta_floc(flow_plant, headloss_floc_BOD, Gt_BOD, T_BOD))"
   ]
  },
  {
   "cell_type": "markdown",
   "metadata": {},
   "source": [
    "### 22)\n",
    "Create plots showing number of channels, number of expansions per water depth, total number of baffles, and channel width for a flow range from 10-100 L/s. Note that the functions that we created in this design challenge are not able to handle arrays as inputs. Use `for` loops to create the numpy arrays of y data needed for these graphs. \n",
    "Use 100 points to define each plot. Remember to initialize the numpy arrays before "
   ]
  },
  {
   "cell_type": "code",
   "execution_count": 23,
   "metadata": {},
   "outputs": [
    {
     "data": {
      "image/png": "[encoded data removed]",
      "text/plain": [
       "<matplotlib.figure.Figure at 0x60bf6ccfd0>"
      ]
     },
     "metadata": {},
     "output_type": "display_data"
    },
    {
     "data": {
      "image/png": "[encoded data removed]",
      "text/plain": [
       "<matplotlib.figure.Figure at 0x60bf6c9048>"
      ]
     },
     "metadata": {},
     "output_type": "display_data"
    },
    {
     "data": {
      "image/png": "[encoded data removed]",
      "text/plain": [
       "<matplotlib.figure.Figure at 0x60bfb39e48>"
      ]
     },
     "metadata": {},
     "output_type": "display_data"
    },
    {
     "data": {
      "image/png": "[encoded data removed]",
      "text/plain": [
       "<matplotlib.figure.Figure at 0x60c0f1d4e0>"
      ]
     },
     "metadata": {},
     "output_type": "display_data"
    }
   ],
   "source": [
    "plot_points=100\n",
    "flow_plant=np.linspace(10,100, num=plot_points, endpoint=True)*u.L/u.s\n",
    "\n",
    "expansions=np.zeros(plot_points)\n",
    "for i in range(plot_points):\n",
    "    expansions[i] = num_expansions(flow_plant[i], headloss_floc_BOD, Gt_BOD, T_BOD)\n",
    "plt.plot(flow_plant,expansions,'-')\n",
    "\n",
    "plt.xlabel('Plant Flow Rate (L/s)')\n",
    "plt.ylabel('Expansion per baffle space')\n",
    "plt.title('Expansions per baffle space vs plant flow')\n",
    "plt.show() \n",
    "\n",
    "\n",
    "channels=np.zeros(plot_points)\n",
    "for i in range(plot_points):\n",
    "    channels[i]=num_channel(flow_plant[i], headloss_floc_BOD, Gt_BOD, T_BOD)\n",
    "plt.plot(flow_plant,channels,'-')\n",
    "\n",
    "plt.xlabel('Plant Flow Rate (L/s)')\n",
    "plt.ylabel('Number of channels')\n",
    "plt.title('Number of channels vs plant flow')\n",
    "plt.show() \n",
    "\n",
    "\n",
    "baffles=np.zeros(plot_points)\n",
    "for i in range(plot_points):\n",
    "    baffles[i]=num_baffles(flow_plant[i], headloss_floc_BOD, Gt_BOD, T_BOD)\n",
    "plt.plot(flow_plant,baffles,'-')\n",
    "\n",
    "plt.xlabel('Plant Flow Rate (L/s)')\n",
    "plt.ylabel('Number of Baffle Spaces')\n",
    "plt.title('Number of baffle spaces vs plant flow')\n",
    "plt.show() \n",
    "\n",
    "\n",
    "width_floc_channel=np.zeros(plot_points)*u.m\n",
    "for i in range(plot_points):\n",
    "    width_floc_channel[i]=width_floc(flow_plant[i], headloss_floc_BOD, Gt_BOD, T_BOD)\n",
    "plt.plot(flow_plant,width_floc_channel,'-')\n",
    "\n",
    "plt.xlabel('Plant Flow Rate (L/s)')\n",
    "plt.ylabel('Floc Channel Width (m)')\n",
    "plt.title('Floc channel width vs plant flow')\n",
    "plt.show()\n"
   ]
  },
  {
   "cell_type": "markdown",
   "metadata": {},
   "source": [
    "### 23)\n",
    "Read from the graphs to determine\n",
    "\n",
    "1. At what flow rate is it no longer necessary to add extra obstacles in the flocculator?\n",
    "1. At what flow rate does the flocculator switch from 2 channels to 4 channels?\n",
    "1. **Why** did the flocculator switch from 2 to 4 channels?"
   ]
  },
  {
   "cell_type": "markdown",
   "metadata": {},
   "source": [
    "1. No obstacles are needed for flows greater than about 65 L/s.\n",
    "1. The flocculator switches from 2 to 4 channels at 65 L/s.\n",
    "1. The channels had reached their maximum width at that flow rate."
   ]
  },
  {
   "cell_type": "markdown",
   "metadata": {
    "collapsed": true
   },
   "source": [
    "### 24)\n",
    "Change Gt_BOD to 20,000 and run the code again. Identify at least 3 changes in the design."
   ]
  },
  {
   "cell_type": "markdown",
   "metadata": {},
   "source": [
    "1. The number of channels would be 2 for all of the flows explored here.\n",
    "1. The value of G increased\n",
    "1. The spacing between baffles decreased\n",
    "1. The flow expansions became closer together (because the spacing between baffles decreased)\n",
    "1. The number of baffles decreased"
   ]
  }
 ],
 "metadata": {
  "kernelspec": {
   "display_name": "Python 3",
   "language": "python",
   "name": "python3"
  },
  "language_info": {
   "codemirror_mode": {
    "name": "ipython",
    "version": 3
   },
   "file_extension": ".py",
   "mimetype": "text/x-python",
   "name": "python",
   "nbconvert_exporter": "python",
   "pygments_lexer": "ipython3",
   "version": "3.6.1"
  }
 },
 "nbformat": 4,
 "nbformat_minor": 2
}
